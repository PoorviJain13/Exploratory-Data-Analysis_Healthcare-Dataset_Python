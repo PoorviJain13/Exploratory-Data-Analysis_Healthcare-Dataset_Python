{
 "cells": [
  {
   "cell_type": "markdown",
   "metadata": {},
   "source": [
    "Health Care Dataset\n",
    "\n",
    "    Part 1: Load and Inspect Data\n",
    "    Part 2: Cleaning The Data\n",
    "    Part 3: Data Analysis\n",
    "    Part 4: Summary"
   ]
  },
  {
   "cell_type": "markdown",
   "metadata": {},
   "source": [
    "### Part 1: Loading and Inspecting the Data"
   ]
  },
  {
   "cell_type": "code",
   "execution_count": 1,
   "metadata": {},
   "outputs": [],
   "source": [
    "import pandas as pd\n",
    "import matplotlib.pyplot as plt\n",
    "import seaborn as sns\n",
    "\n",
    "%matplotlib inline\n",
    "\n",
    "plt.rcParams['figure.figsize'] = [10,6]"
   ]
  },
  {
   "cell_type": "code",
   "execution_count": 2,
   "metadata": {},
   "outputs": [],
   "source": [
    "df = pd.read_csv(\"mock_treatment_data_2016.csv\")"
   ]
  },
  {
   "cell_type": "code",
   "execution_count": 3,
   "metadata": {},
   "outputs": [
    {
     "data": {
      "text/html": [
       "<div>\n",
       "<style scoped>\n",
       "    .dataframe tbody tr th:only-of-type {\n",
       "        vertical-align: middle;\n",
       "    }\n",
       "\n",
       "    .dataframe tbody tr th {\n",
       "        vertical-align: top;\n",
       "    }\n",
       "\n",
       "    .dataframe thead th {\n",
       "        text-align: right;\n",
       "    }\n",
       "</style>\n",
       "<table border=\"1\" class=\"dataframe\">\n",
       "  <thead>\n",
       "    <tr style=\"text-align: right;\">\n",
       "      <th></th>\n",
       "      <th>PatientID</th>\n",
       "      <th>TreatmentStart</th>\n",
       "      <th>Drug</th>\n",
       "      <th>Dosage</th>\n",
       "    </tr>\n",
       "  </thead>\n",
       "  <tbody>\n",
       "    <tr>\n",
       "      <th>0</th>\n",
       "      <td>PT1</td>\n",
       "      <td>1/14/16</td>\n",
       "      <td>Cisplatin</td>\n",
       "      <td>200</td>\n",
       "    </tr>\n",
       "    <tr>\n",
       "      <th>1</th>\n",
       "      <td>PT20</td>\n",
       "      <td>01-02-2016</td>\n",
       "      <td>Cisplatin</td>\n",
       "      <td>140</td>\n",
       "    </tr>\n",
       "    <tr>\n",
       "      <th>2</th>\n",
       "      <td>PT2</td>\n",
       "      <td>01-10-2016</td>\n",
       "      <td>Cisplatin</td>\n",
       "      <td>180</td>\n",
       "    </tr>\n",
       "    <tr>\n",
       "      <th>3</th>\n",
       "      <td>PT3</td>\n",
       "      <td>1/24/16</td>\n",
       "      <td>Cisplatin</td>\n",
       "      <td>140</td>\n",
       "    </tr>\n",
       "    <tr>\n",
       "      <th>4</th>\n",
       "      <td>PT4</td>\n",
       "      <td>2/14/16</td>\n",
       "      <td>Cisplatin</td>\n",
       "      <td>200</td>\n",
       "    </tr>\n",
       "    <tr>\n",
       "      <th>5</th>\n",
       "      <td>PT19</td>\n",
       "      <td>02-10-2016</td>\n",
       "      <td>Cisplatin</td>\n",
       "      <td>180</td>\n",
       "    </tr>\n",
       "    <tr>\n",
       "      <th>6</th>\n",
       "      <td>PT5</td>\n",
       "      <td>02-06-2016</td>\n",
       "      <td>Cisplatin</td>\n",
       "      <td>190</td>\n",
       "    </tr>\n",
       "    <tr>\n",
       "      <th>7</th>\n",
       "      <td>PT6</td>\n",
       "      <td>03-01-2016</td>\n",
       "      <td>Cisplatin</td>\n",
       "      <td>180</td>\n",
       "    </tr>\n",
       "    <tr>\n",
       "      <th>8</th>\n",
       "      <td>PT7</td>\n",
       "      <td>03-01-2016</td>\n",
       "      <td>Cisplatin</td>\n",
       "      <td>210</td>\n",
       "    </tr>\n",
       "    <tr>\n",
       "      <th>9</th>\n",
       "      <td>PT8</td>\n",
       "      <td>3/19/16</td>\n",
       "      <td>Cisplatin</td>\n",
       "      <td>180</td>\n",
       "    </tr>\n",
       "    <tr>\n",
       "      <th>10</th>\n",
       "      <td>PT9</td>\n",
       "      <td>3/27/16</td>\n",
       "      <td>Nivolumab</td>\n",
       "      <td>240</td>\n",
       "    </tr>\n",
       "    <tr>\n",
       "      <th>11</th>\n",
       "      <td>PT10</td>\n",
       "      <td>04-07-2016</td>\n",
       "      <td>Nivolumab</td>\n",
       "      <td>240</td>\n",
       "    </tr>\n",
       "    <tr>\n",
       "      <th>12</th>\n",
       "      <td>PT10</td>\n",
       "      <td>04-07-2016</td>\n",
       "      <td>Cisplatin</td>\n",
       "      <td>140</td>\n",
       "    </tr>\n",
       "    <tr>\n",
       "      <th>13</th>\n",
       "      <td>PT11</td>\n",
       "      <td>4/17/16</td>\n",
       "      <td>Cisplatin</td>\n",
       "      <td>190</td>\n",
       "    </tr>\n",
       "    <tr>\n",
       "      <th>14</th>\n",
       "      <td>PT16</td>\n",
       "      <td>04-09-2016</td>\n",
       "      <td>Cisplatin</td>\n",
       "      <td>160</td>\n",
       "    </tr>\n",
       "    <tr>\n",
       "      <th>15</th>\n",
       "      <td>PT12</td>\n",
       "      <td>5/15/16</td>\n",
       "      <td>Cisplatin</td>\n",
       "      <td>1800</td>\n",
       "    </tr>\n",
       "    <tr>\n",
       "      <th>16</th>\n",
       "      <td>PT13</td>\n",
       "      <td>5/21/16</td>\n",
       "      <td>Cisplatin</td>\n",
       "      <td>180</td>\n",
       "    </tr>\n",
       "    <tr>\n",
       "      <th>17</th>\n",
       "      <td>PT14</td>\n",
       "      <td>05-03-2016</td>\n",
       "      <td>Nivolumab</td>\n",
       "      <td>240</td>\n",
       "    </tr>\n",
       "    <tr>\n",
       "      <th>18</th>\n",
       "      <td>PT15</td>\n",
       "      <td>05-07-2016</td>\n",
       "      <td>Nivolumab</td>\n",
       "      <td>240</td>\n",
       "    </tr>\n",
       "    <tr>\n",
       "      <th>19</th>\n",
       "      <td>PT1</td>\n",
       "      <td>6/17/16</td>\n",
       "      <td>Nivolumab</td>\n",
       "      <td>240</td>\n",
       "    </tr>\n",
       "    <tr>\n",
       "      <th>20</th>\n",
       "      <td>PT17</td>\n",
       "      <td>6/17/16</td>\n",
       "      <td>Cisplatin</td>\n",
       "      <td>160</td>\n",
       "    </tr>\n",
       "    <tr>\n",
       "      <th>21</th>\n",
       "      <td>PT18</td>\n",
       "      <td>06-03-2016</td>\n",
       "      <td>Nivolumab</td>\n",
       "      <td>240</td>\n",
       "    </tr>\n",
       "    <tr>\n",
       "      <th>22</th>\n",
       "      <td>PT19</td>\n",
       "      <td>06-02-2016</td>\n",
       "      <td>Nivolumab</td>\n",
       "      <td>240</td>\n",
       "    </tr>\n",
       "    <tr>\n",
       "      <th>23</th>\n",
       "      <td>PT20</td>\n",
       "      <td>06-02-2016</td>\n",
       "      <td>Nivolumab</td>\n",
       "      <td>240</td>\n",
       "    </tr>\n",
       "  </tbody>\n",
       "</table>\n",
       "</div>"
      ],
      "text/plain": [
       "   PatientID TreatmentStart       Drug  Dosage\n",
       "0        PT1        1/14/16  Cisplatin     200\n",
       "1       PT20     01-02-2016  Cisplatin     140\n",
       "2        PT2     01-10-2016  Cisplatin     180\n",
       "3        PT3        1/24/16  Cisplatin     140\n",
       "4        PT4        2/14/16  Cisplatin     200\n",
       "5       PT19     02-10-2016  Cisplatin     180\n",
       "6        PT5     02-06-2016  Cisplatin     190\n",
       "7        PT6     03-01-2016  Cisplatin     180\n",
       "8        PT7     03-01-2016  Cisplatin     210\n",
       "9        PT8        3/19/16  Cisplatin     180\n",
       "10       PT9        3/27/16  Nivolumab     240\n",
       "11      PT10     04-07-2016  Nivolumab     240\n",
       "12      PT10     04-07-2016  Cisplatin     140\n",
       "13      PT11        4/17/16  Cisplatin     190\n",
       "14      PT16     04-09-2016  Cisplatin     160\n",
       "15      PT12        5/15/16  Cisplatin    1800\n",
       "16      PT13        5/21/16  Cisplatin     180\n",
       "17      PT14     05-03-2016  Nivolumab     240\n",
       "18      PT15     05-07-2016  Nivolumab     240\n",
       "19       PT1        6/17/16  Nivolumab     240\n",
       "20      PT17        6/17/16  Cisplatin     160\n",
       "21      PT18     06-03-2016  Nivolumab     240\n",
       "22      PT19     06-02-2016  Nivolumab     240\n",
       "23      PT20     06-02-2016  Nivolumab     240"
      ]
     },
     "execution_count": 3,
     "metadata": {},
     "output_type": "execute_result"
    }
   ],
   "source": [
    "df"
   ]
  },
  {
   "cell_type": "code",
   "execution_count": 4,
   "metadata": {},
   "outputs": [
    {
     "data": {
      "text/html": [
       "<div>\n",
       "<style scoped>\n",
       "    .dataframe tbody tr th:only-of-type {\n",
       "        vertical-align: middle;\n",
       "    }\n",
       "\n",
       "    .dataframe tbody tr th {\n",
       "        vertical-align: top;\n",
       "    }\n",
       "\n",
       "    .dataframe thead th {\n",
       "        text-align: right;\n",
       "    }\n",
       "</style>\n",
       "<table border=\"1\" class=\"dataframe\">\n",
       "  <thead>\n",
       "    <tr style=\"text-align: right;\">\n",
       "      <th></th>\n",
       "      <th>PatientID</th>\n",
       "      <th>TreatmentStart</th>\n",
       "      <th>Drug</th>\n",
       "      <th>Dosage</th>\n",
       "    </tr>\n",
       "  </thead>\n",
       "  <tbody>\n",
       "    <tr>\n",
       "      <th>0</th>\n",
       "      <td>PT1</td>\n",
       "      <td>1/14/16</td>\n",
       "      <td>Cisplatin</td>\n",
       "      <td>200</td>\n",
       "    </tr>\n",
       "    <tr>\n",
       "      <th>1</th>\n",
       "      <td>PT20</td>\n",
       "      <td>01-02-2016</td>\n",
       "      <td>Cisplatin</td>\n",
       "      <td>140</td>\n",
       "    </tr>\n",
       "    <tr>\n",
       "      <th>2</th>\n",
       "      <td>PT2</td>\n",
       "      <td>01-10-2016</td>\n",
       "      <td>Cisplatin</td>\n",
       "      <td>180</td>\n",
       "    </tr>\n",
       "    <tr>\n",
       "      <th>3</th>\n",
       "      <td>PT3</td>\n",
       "      <td>1/24/16</td>\n",
       "      <td>Cisplatin</td>\n",
       "      <td>140</td>\n",
       "    </tr>\n",
       "    <tr>\n",
       "      <th>4</th>\n",
       "      <td>PT4</td>\n",
       "      <td>2/14/16</td>\n",
       "      <td>Cisplatin</td>\n",
       "      <td>200</td>\n",
       "    </tr>\n",
       "  </tbody>\n",
       "</table>\n",
       "</div>"
      ],
      "text/plain": [
       "  PatientID TreatmentStart       Drug  Dosage\n",
       "0       PT1        1/14/16  Cisplatin     200\n",
       "1      PT20     01-02-2016  Cisplatin     140\n",
       "2       PT2     01-10-2016  Cisplatin     180\n",
       "3       PT3        1/24/16  Cisplatin     140\n",
       "4       PT4        2/14/16  Cisplatin     200"
      ]
     },
     "execution_count": 4,
     "metadata": {},
     "output_type": "execute_result"
    }
   ],
   "source": [
    "df.head()"
   ]
  },
  {
   "cell_type": "code",
   "execution_count": 5,
   "metadata": {},
   "outputs": [
    {
     "data": {
      "text/html": [
       "<div>\n",
       "<style scoped>\n",
       "    .dataframe tbody tr th:only-of-type {\n",
       "        vertical-align: middle;\n",
       "    }\n",
       "\n",
       "    .dataframe tbody tr th {\n",
       "        vertical-align: top;\n",
       "    }\n",
       "\n",
       "    .dataframe thead th {\n",
       "        text-align: right;\n",
       "    }\n",
       "</style>\n",
       "<table border=\"1\" class=\"dataframe\">\n",
       "  <thead>\n",
       "    <tr style=\"text-align: right;\">\n",
       "      <th></th>\n",
       "      <th>PatientID</th>\n",
       "      <th>TreatmentStart</th>\n",
       "      <th>Drug</th>\n",
       "      <th>Dosage</th>\n",
       "    </tr>\n",
       "  </thead>\n",
       "  <tbody>\n",
       "    <tr>\n",
       "      <th>19</th>\n",
       "      <td>PT1</td>\n",
       "      <td>6/17/16</td>\n",
       "      <td>Nivolumab</td>\n",
       "      <td>240</td>\n",
       "    </tr>\n",
       "    <tr>\n",
       "      <th>20</th>\n",
       "      <td>PT17</td>\n",
       "      <td>6/17/16</td>\n",
       "      <td>Cisplatin</td>\n",
       "      <td>160</td>\n",
       "    </tr>\n",
       "    <tr>\n",
       "      <th>21</th>\n",
       "      <td>PT18</td>\n",
       "      <td>06-03-2016</td>\n",
       "      <td>Nivolumab</td>\n",
       "      <td>240</td>\n",
       "    </tr>\n",
       "    <tr>\n",
       "      <th>22</th>\n",
       "      <td>PT19</td>\n",
       "      <td>06-02-2016</td>\n",
       "      <td>Nivolumab</td>\n",
       "      <td>240</td>\n",
       "    </tr>\n",
       "    <tr>\n",
       "      <th>23</th>\n",
       "      <td>PT20</td>\n",
       "      <td>06-02-2016</td>\n",
       "      <td>Nivolumab</td>\n",
       "      <td>240</td>\n",
       "    </tr>\n",
       "  </tbody>\n",
       "</table>\n",
       "</div>"
      ],
      "text/plain": [
       "   PatientID TreatmentStart       Drug  Dosage\n",
       "19       PT1        6/17/16  Nivolumab     240\n",
       "20      PT17        6/17/16  Cisplatin     160\n",
       "21      PT18     06-03-2016  Nivolumab     240\n",
       "22      PT19     06-02-2016  Nivolumab     240\n",
       "23      PT20     06-02-2016  Nivolumab     240"
      ]
     },
     "execution_count": 5,
     "metadata": {},
     "output_type": "execute_result"
    }
   ],
   "source": [
    "df.tail()"
   ]
  },
  {
   "cell_type": "code",
   "execution_count": 6,
   "metadata": {},
   "outputs": [
    {
     "data": {
      "text/plain": [
       "24"
      ]
     },
     "execution_count": 6,
     "metadata": {},
     "output_type": "execute_result"
    }
   ],
   "source": [
    "len(df)"
   ]
  },
  {
   "cell_type": "code",
   "execution_count": 7,
   "metadata": {},
   "outputs": [
    {
     "data": {
      "text/plain": [
       "PatientID         object\n",
       "TreatmentStart    object\n",
       "Drug              object\n",
       "Dosage             int64\n",
       "dtype: object"
      ]
     },
     "execution_count": 7,
     "metadata": {},
     "output_type": "execute_result"
    }
   ],
   "source": [
    "df.dtypes"
   ]
  },
  {
   "cell_type": "code",
   "execution_count": 8,
   "metadata": {},
   "outputs": [
    {
     "data": {
      "text/plain": [
       "Index(['PatientID', 'TreatmentStart', 'Drug', 'Dosage'], dtype='object')"
      ]
     },
     "execution_count": 8,
     "metadata": {},
     "output_type": "execute_result"
    }
   ],
   "source": [
    "df.columns"
   ]
  },
  {
   "cell_type": "markdown",
   "metadata": {},
   "source": [
    "Viewing descriptive stats of the numeric column in the dataset\n",
    "('Dosage')"
   ]
  },
  {
   "cell_type": "code",
   "execution_count": 9,
   "metadata": {},
   "outputs": [
    {
     "data": {
      "text/html": [
       "<div>\n",
       "<style scoped>\n",
       "    .dataframe tbody tr th:only-of-type {\n",
       "        vertical-align: middle;\n",
       "    }\n",
       "\n",
       "    .dataframe tbody tr th {\n",
       "        vertical-align: top;\n",
       "    }\n",
       "\n",
       "    .dataframe thead th {\n",
       "        text-align: right;\n",
       "    }\n",
       "</style>\n",
       "<table border=\"1\" class=\"dataframe\">\n",
       "  <thead>\n",
       "    <tr style=\"text-align: right;\">\n",
       "      <th></th>\n",
       "      <th>Dosage</th>\n",
       "    </tr>\n",
       "  </thead>\n",
       "  <tbody>\n",
       "    <tr>\n",
       "      <th>count</th>\n",
       "      <td>24.000000</td>\n",
       "    </tr>\n",
       "    <tr>\n",
       "      <th>mean</th>\n",
       "      <td>264.583333</td>\n",
       "    </tr>\n",
       "    <tr>\n",
       "      <th>std</th>\n",
       "      <td>328.963843</td>\n",
       "    </tr>\n",
       "    <tr>\n",
       "      <th>min</th>\n",
       "      <td>140.000000</td>\n",
       "    </tr>\n",
       "    <tr>\n",
       "      <th>25%</th>\n",
       "      <td>180.000000</td>\n",
       "    </tr>\n",
       "    <tr>\n",
       "      <th>50%</th>\n",
       "      <td>195.000000</td>\n",
       "    </tr>\n",
       "    <tr>\n",
       "      <th>75%</th>\n",
       "      <td>240.000000</td>\n",
       "    </tr>\n",
       "    <tr>\n",
       "      <th>max</th>\n",
       "      <td>1800.000000</td>\n",
       "    </tr>\n",
       "  </tbody>\n",
       "</table>\n",
       "</div>"
      ],
      "text/plain": [
       "            Dosage\n",
       "count    24.000000\n",
       "mean    264.583333\n",
       "std     328.963843\n",
       "min     140.000000\n",
       "25%     180.000000\n",
       "50%     195.000000\n",
       "75%     240.000000\n",
       "max    1800.000000"
      ]
     },
     "execution_count": 9,
     "metadata": {},
     "output_type": "execute_result"
    }
   ],
   "source": [
    "df.describe()"
   ]
  },
  {
   "cell_type": "markdown",
   "metadata": {},
   "source": [
    "Accessing columns in a dataframe"
   ]
  },
  {
   "cell_type": "code",
   "execution_count": 10,
   "metadata": {},
   "outputs": [
    {
     "data": {
      "text/plain": [
       "0     PT1\n",
       "1    PT20\n",
       "2     PT2\n",
       "3     PT3\n",
       "4     PT4\n",
       "Name: PatientID, dtype: object"
      ]
     },
     "execution_count": 10,
     "metadata": {},
     "output_type": "execute_result"
    }
   ],
   "source": [
    "df['PatientID'].head()"
   ]
  },
  {
   "cell_type": "code",
   "execution_count": 11,
   "metadata": {},
   "outputs": [
    {
     "data": {
      "text/plain": [
       "pandas.core.series.Series"
      ]
     },
     "execution_count": 11,
     "metadata": {},
     "output_type": "execute_result"
    }
   ],
   "source": [
    "type(df['PatientID'])"
   ]
  },
  {
   "cell_type": "code",
   "execution_count": 12,
   "metadata": {},
   "outputs": [
    {
     "data": {
      "text/plain": [
       "0     PT1\n",
       "1    PT20\n",
       "2     PT2\n",
       "3     PT3\n",
       "4     PT4\n",
       "Name: PatientID, dtype: object"
      ]
     },
     "execution_count": 12,
     "metadata": {},
     "output_type": "execute_result"
    }
   ],
   "source": [
    "df.PatientID.head()"
   ]
  },
  {
   "cell_type": "code",
   "execution_count": 13,
   "metadata": {},
   "outputs": [
    {
     "data": {
      "text/html": [
       "<div>\n",
       "<style scoped>\n",
       "    .dataframe tbody tr th:only-of-type {\n",
       "        vertical-align: middle;\n",
       "    }\n",
       "\n",
       "    .dataframe tbody tr th {\n",
       "        vertical-align: top;\n",
       "    }\n",
       "\n",
       "    .dataframe thead th {\n",
       "        text-align: right;\n",
       "    }\n",
       "</style>\n",
       "<table border=\"1\" class=\"dataframe\">\n",
       "  <thead>\n",
       "    <tr style=\"text-align: right;\">\n",
       "      <th></th>\n",
       "      <th>PatientID</th>\n",
       "      <th>Dosage</th>\n",
       "    </tr>\n",
       "  </thead>\n",
       "  <tbody>\n",
       "    <tr>\n",
       "      <th>0</th>\n",
       "      <td>PT1</td>\n",
       "      <td>200</td>\n",
       "    </tr>\n",
       "    <tr>\n",
       "      <th>1</th>\n",
       "      <td>PT20</td>\n",
       "      <td>140</td>\n",
       "    </tr>\n",
       "    <tr>\n",
       "      <th>2</th>\n",
       "      <td>PT2</td>\n",
       "      <td>180</td>\n",
       "    </tr>\n",
       "    <tr>\n",
       "      <th>3</th>\n",
       "      <td>PT3</td>\n",
       "      <td>140</td>\n",
       "    </tr>\n",
       "    <tr>\n",
       "      <th>4</th>\n",
       "      <td>PT4</td>\n",
       "      <td>200</td>\n",
       "    </tr>\n",
       "  </tbody>\n",
       "</table>\n",
       "</div>"
      ],
      "text/plain": [
       "  PatientID  Dosage\n",
       "0       PT1     200\n",
       "1      PT20     140\n",
       "2       PT2     180\n",
       "3       PT3     140\n",
       "4       PT4     200"
      ]
     },
     "execution_count": 13,
     "metadata": {},
     "output_type": "execute_result"
    }
   ],
   "source": [
    "df[['PatientID','Dosage']].head()"
   ]
  },
  {
   "cell_type": "code",
   "execution_count": 14,
   "metadata": {},
   "outputs": [
    {
     "data": {
      "text/plain": [
       "pandas.core.frame.DataFrame"
      ]
     },
     "execution_count": 14,
     "metadata": {},
     "output_type": "execute_result"
    }
   ],
   "source": [
    "type(df[['PatientID','TreatmentStart']])"
   ]
  },
  {
   "cell_type": "code",
   "execution_count": 15,
   "metadata": {},
   "outputs": [
    {
     "data": {
      "text/plain": [
       "['PT1',\n",
       " 'PT10',\n",
       " 'PT11',\n",
       " 'PT12',\n",
       " 'PT13',\n",
       " 'PT14',\n",
       " 'PT15',\n",
       " 'PT16',\n",
       " 'PT17',\n",
       " 'PT18',\n",
       " 'PT19',\n",
       " 'PT2',\n",
       " 'PT20',\n",
       " 'PT3',\n",
       " 'PT4',\n",
       " 'PT5',\n",
       " 'PT6',\n",
       " 'PT7',\n",
       " 'PT8',\n",
       " 'PT9']"
      ]
     },
     "execution_count": 15,
     "metadata": {},
     "output_type": "execute_result"
    }
   ],
   "source": [
    "sorted(df['PatientID'].unique())"
   ]
  },
  {
   "cell_type": "markdown",
   "metadata": {},
   "source": [
    "\n",
    "Accessing Rows In Dataframe"
   ]
  },
  {
   "cell_type": "code",
   "execution_count": 16,
   "metadata": {},
   "outputs": [
    {
     "data": {
      "text/html": [
       "<div>\n",
       "<style scoped>\n",
       "    .dataframe tbody tr th:only-of-type {\n",
       "        vertical-align: middle;\n",
       "    }\n",
       "\n",
       "    .dataframe tbody tr th {\n",
       "        vertical-align: top;\n",
       "    }\n",
       "\n",
       "    .dataframe thead th {\n",
       "        text-align: right;\n",
       "    }\n",
       "</style>\n",
       "<table border=\"1\" class=\"dataframe\">\n",
       "  <thead>\n",
       "    <tr style=\"text-align: right;\">\n",
       "      <th></th>\n",
       "      <th>PatientID</th>\n",
       "      <th>TreatmentStart</th>\n",
       "      <th>Drug</th>\n",
       "      <th>Dosage</th>\n",
       "    </tr>\n",
       "  </thead>\n",
       "  <tbody>\n",
       "    <tr>\n",
       "      <th>1</th>\n",
       "      <td>PT20</td>\n",
       "      <td>01-02-2016</td>\n",
       "      <td>Cisplatin</td>\n",
       "      <td>140</td>\n",
       "    </tr>\n",
       "    <tr>\n",
       "      <th>23</th>\n",
       "      <td>PT20</td>\n",
       "      <td>06-02-2016</td>\n",
       "      <td>Nivolumab</td>\n",
       "      <td>240</td>\n",
       "    </tr>\n",
       "  </tbody>\n",
       "</table>\n",
       "</div>"
      ],
      "text/plain": [
       "   PatientID TreatmentStart       Drug  Dosage\n",
       "1       PT20     01-02-2016  Cisplatin     140\n",
       "23      PT20     06-02-2016  Nivolumab     240"
      ]
     },
     "execution_count": 16,
     "metadata": {},
     "output_type": "execute_result"
    }
   ],
   "source": [
    "df.loc[df[\"PatientID\"] == \"PT20\"]"
   ]
  },
  {
   "cell_type": "code",
   "execution_count": 17,
   "metadata": {},
   "outputs": [
    {
     "data": {
      "text/html": [
       "<div>\n",
       "<style scoped>\n",
       "    .dataframe tbody tr th:only-of-type {\n",
       "        vertical-align: middle;\n",
       "    }\n",
       "\n",
       "    .dataframe tbody tr th {\n",
       "        vertical-align: top;\n",
       "    }\n",
       "\n",
       "    .dataframe thead th {\n",
       "        text-align: right;\n",
       "    }\n",
       "</style>\n",
       "<table border=\"1\" class=\"dataframe\">\n",
       "  <thead>\n",
       "    <tr style=\"text-align: right;\">\n",
       "      <th></th>\n",
       "      <th>PatientID</th>\n",
       "      <th>TreatmentStart</th>\n",
       "      <th>Drug</th>\n",
       "      <th>Dosage</th>\n",
       "    </tr>\n",
       "  </thead>\n",
       "  <tbody>\n",
       "    <tr>\n",
       "      <th>1</th>\n",
       "      <td>PT20</td>\n",
       "      <td>01-02-2016</td>\n",
       "      <td>Cisplatin</td>\n",
       "      <td>140</td>\n",
       "    </tr>\n",
       "    <tr>\n",
       "      <th>23</th>\n",
       "      <td>PT20</td>\n",
       "      <td>06-02-2016</td>\n",
       "      <td>Nivolumab</td>\n",
       "      <td>240</td>\n",
       "    </tr>\n",
       "  </tbody>\n",
       "</table>\n",
       "</div>"
      ],
      "text/plain": [
       "   PatientID TreatmentStart       Drug  Dosage\n",
       "1       PT20     01-02-2016  Cisplatin     140\n",
       "23      PT20     06-02-2016  Nivolumab     240"
      ]
     },
     "execution_count": 17,
     "metadata": {},
     "output_type": "execute_result"
    }
   ],
   "source": [
    "df[df[\"PatientID\"] == \"PT20\"]"
   ]
  },
  {
   "cell_type": "code",
   "execution_count": 18,
   "metadata": {},
   "outputs": [
    {
     "data": {
      "text/html": [
       "<div>\n",
       "<style scoped>\n",
       "    .dataframe tbody tr th:only-of-type {\n",
       "        vertical-align: middle;\n",
       "    }\n",
       "\n",
       "    .dataframe tbody tr th {\n",
       "        vertical-align: top;\n",
       "    }\n",
       "\n",
       "    .dataframe thead th {\n",
       "        text-align: right;\n",
       "    }\n",
       "</style>\n",
       "<table border=\"1\" class=\"dataframe\">\n",
       "  <thead>\n",
       "    <tr style=\"text-align: right;\">\n",
       "      <th></th>\n",
       "      <th>PatientID</th>\n",
       "      <th>TreatmentStart</th>\n",
       "      <th>Drug</th>\n",
       "      <th>Dosage</th>\n",
       "    </tr>\n",
       "  </thead>\n",
       "  <tbody>\n",
       "    <tr>\n",
       "      <th>1</th>\n",
       "      <td>PT20</td>\n",
       "      <td>01-02-2016</td>\n",
       "      <td>Cisplatin</td>\n",
       "      <td>140</td>\n",
       "    </tr>\n",
       "  </tbody>\n",
       "</table>\n",
       "</div>"
      ],
      "text/plain": [
       "  PatientID TreatmentStart       Drug  Dosage\n",
       "1      PT20     01-02-2016  Cisplatin     140"
      ]
     },
     "execution_count": 18,
     "metadata": {},
     "output_type": "execute_result"
    }
   ],
   "source": [
    "df.loc[(df[\"PatientID\"] == \"PT20\") & (df[\"Drug\"] == \"Cisplatin\")]"
   ]
  },
  {
   "cell_type": "code",
   "execution_count": 19,
   "metadata": {},
   "outputs": [
    {
     "data": {
      "text/html": [
       "<div>\n",
       "<style scoped>\n",
       "    .dataframe tbody tr th:only-of-type {\n",
       "        vertical-align: middle;\n",
       "    }\n",
       "\n",
       "    .dataframe tbody tr th {\n",
       "        vertical-align: top;\n",
       "    }\n",
       "\n",
       "    .dataframe thead th {\n",
       "        text-align: right;\n",
       "    }\n",
       "</style>\n",
       "<table border=\"1\" class=\"dataframe\">\n",
       "  <thead>\n",
       "    <tr style=\"text-align: right;\">\n",
       "      <th></th>\n",
       "      <th>PatientID</th>\n",
       "      <th>TreatmentStart</th>\n",
       "      <th>Drug</th>\n",
       "      <th>Dosage</th>\n",
       "    </tr>\n",
       "  </thead>\n",
       "  <tbody>\n",
       "    <tr>\n",
       "      <th>1</th>\n",
       "      <td>PT20</td>\n",
       "      <td>01-02-2016</td>\n",
       "      <td>Cisplatin</td>\n",
       "      <td>140</td>\n",
       "    </tr>\n",
       "    <tr>\n",
       "      <th>2</th>\n",
       "      <td>PT2</td>\n",
       "      <td>01-10-2016</td>\n",
       "      <td>Cisplatin</td>\n",
       "      <td>180</td>\n",
       "    </tr>\n",
       "    <tr>\n",
       "      <th>6</th>\n",
       "      <td>PT5</td>\n",
       "      <td>02-06-2016</td>\n",
       "      <td>Cisplatin</td>\n",
       "      <td>190</td>\n",
       "    </tr>\n",
       "    <tr>\n",
       "      <th>5</th>\n",
       "      <td>PT19</td>\n",
       "      <td>02-10-2016</td>\n",
       "      <td>Cisplatin</td>\n",
       "      <td>180</td>\n",
       "    </tr>\n",
       "    <tr>\n",
       "      <th>7</th>\n",
       "      <td>PT6</td>\n",
       "      <td>03-01-2016</td>\n",
       "      <td>Cisplatin</td>\n",
       "      <td>180</td>\n",
       "    </tr>\n",
       "  </tbody>\n",
       "</table>\n",
       "</div>"
      ],
      "text/plain": [
       "  PatientID TreatmentStart       Drug  Dosage\n",
       "1      PT20     01-02-2016  Cisplatin     140\n",
       "2       PT2     01-10-2016  Cisplatin     180\n",
       "6       PT5     02-06-2016  Cisplatin     190\n",
       "5      PT19     02-10-2016  Cisplatin     180\n",
       "7       PT6     03-01-2016  Cisplatin     180"
      ]
     },
     "execution_count": 19,
     "metadata": {},
     "output_type": "execute_result"
    }
   ],
   "source": [
    "df.sort_values(\"TreatmentStart\").head()"
   ]
  },
  {
   "cell_type": "code",
   "execution_count": 20,
   "metadata": {},
   "outputs": [
    {
     "data": {
      "text/html": [
       "<div>\n",
       "<style scoped>\n",
       "    .dataframe tbody tr th:only-of-type {\n",
       "        vertical-align: middle;\n",
       "    }\n",
       "\n",
       "    .dataframe tbody tr th {\n",
       "        vertical-align: top;\n",
       "    }\n",
       "\n",
       "    .dataframe thead th {\n",
       "        text-align: right;\n",
       "    }\n",
       "</style>\n",
       "<table border=\"1\" class=\"dataframe\">\n",
       "  <thead>\n",
       "    <tr style=\"text-align: right;\">\n",
       "      <th></th>\n",
       "      <th>PatientID</th>\n",
       "      <th>TreatmentStart</th>\n",
       "      <th>Drug</th>\n",
       "      <th>Dosage</th>\n",
       "    </tr>\n",
       "  </thead>\n",
       "  <tbody>\n",
       "    <tr>\n",
       "      <th>20</th>\n",
       "      <td>PT17</td>\n",
       "      <td>6/17/16</td>\n",
       "      <td>Cisplatin</td>\n",
       "      <td>160</td>\n",
       "    </tr>\n",
       "    <tr>\n",
       "      <th>19</th>\n",
       "      <td>PT1</td>\n",
       "      <td>6/17/16</td>\n",
       "      <td>Nivolumab</td>\n",
       "      <td>240</td>\n",
       "    </tr>\n",
       "    <tr>\n",
       "      <th>16</th>\n",
       "      <td>PT13</td>\n",
       "      <td>5/21/16</td>\n",
       "      <td>Cisplatin</td>\n",
       "      <td>180</td>\n",
       "    </tr>\n",
       "    <tr>\n",
       "      <th>15</th>\n",
       "      <td>PT12</td>\n",
       "      <td>5/15/16</td>\n",
       "      <td>Cisplatin</td>\n",
       "      <td>1800</td>\n",
       "    </tr>\n",
       "    <tr>\n",
       "      <th>13</th>\n",
       "      <td>PT11</td>\n",
       "      <td>4/17/16</td>\n",
       "      <td>Cisplatin</td>\n",
       "      <td>190</td>\n",
       "    </tr>\n",
       "  </tbody>\n",
       "</table>\n",
       "</div>"
      ],
      "text/plain": [
       "   PatientID TreatmentStart       Drug  Dosage\n",
       "20      PT17        6/17/16  Cisplatin     160\n",
       "19       PT1        6/17/16  Nivolumab     240\n",
       "16      PT13        5/21/16  Cisplatin     180\n",
       "15      PT12        5/15/16  Cisplatin    1800\n",
       "13      PT11        4/17/16  Cisplatin     190"
      ]
     },
     "execution_count": 20,
     "metadata": {},
     "output_type": "execute_result"
    }
   ],
   "source": [
    "df.sort_values(\"TreatmentStart\", ascending = False).head()"
   ]
  },
  {
   "cell_type": "code",
   "execution_count": 21,
   "metadata": {},
   "outputs": [
    {
     "data": {
      "text/html": [
       "<div>\n",
       "<style scoped>\n",
       "    .dataframe tbody tr th:only-of-type {\n",
       "        vertical-align: middle;\n",
       "    }\n",
       "\n",
       "    .dataframe tbody tr th {\n",
       "        vertical-align: top;\n",
       "    }\n",
       "\n",
       "    .dataframe thead th {\n",
       "        text-align: right;\n",
       "    }\n",
       "</style>\n",
       "<table border=\"1\" class=\"dataframe\">\n",
       "  <thead>\n",
       "    <tr style=\"text-align: right;\">\n",
       "      <th></th>\n",
       "      <th>PatientID</th>\n",
       "      <th>TreatmentStart</th>\n",
       "      <th>Drug</th>\n",
       "      <th>Dosage</th>\n",
       "    </tr>\n",
       "  </thead>\n",
       "  <tbody>\n",
       "    <tr>\n",
       "      <th>1</th>\n",
       "      <td>PT20</td>\n",
       "      <td>01-02-2016</td>\n",
       "      <td>Cisplatin</td>\n",
       "      <td>140</td>\n",
       "    </tr>\n",
       "    <tr>\n",
       "      <th>2</th>\n",
       "      <td>PT2</td>\n",
       "      <td>01-10-2016</td>\n",
       "      <td>Cisplatin</td>\n",
       "      <td>180</td>\n",
       "    </tr>\n",
       "    <tr>\n",
       "      <th>6</th>\n",
       "      <td>PT5</td>\n",
       "      <td>02-06-2016</td>\n",
       "      <td>Cisplatin</td>\n",
       "      <td>190</td>\n",
       "    </tr>\n",
       "    <tr>\n",
       "      <th>5</th>\n",
       "      <td>PT19</td>\n",
       "      <td>02-10-2016</td>\n",
       "      <td>Cisplatin</td>\n",
       "      <td>180</td>\n",
       "    </tr>\n",
       "    <tr>\n",
       "      <th>7</th>\n",
       "      <td>PT6</td>\n",
       "      <td>03-01-2016</td>\n",
       "      <td>Cisplatin</td>\n",
       "      <td>180</td>\n",
       "    </tr>\n",
       "  </tbody>\n",
       "</table>\n",
       "</div>"
      ],
      "text/plain": [
       "  PatientID TreatmentStart       Drug  Dosage\n",
       "1      PT20     01-02-2016  Cisplatin     140\n",
       "2       PT2     01-10-2016  Cisplatin     180\n",
       "6       PT5     02-06-2016  Cisplatin     190\n",
       "5      PT19     02-10-2016  Cisplatin     180\n",
       "7       PT6     03-01-2016  Cisplatin     180"
      ]
     },
     "execution_count": 21,
     "metadata": {},
     "output_type": "execute_result"
    }
   ],
   "source": [
    "df.sort_values([\"TreatmentStart\",\"PatientID\"]).head()"
   ]
  },
  {
   "cell_type": "code",
   "execution_count": 22,
   "metadata": {},
   "outputs": [
    {
     "data": {
      "text/html": [
       "<div>\n",
       "<style scoped>\n",
       "    .dataframe tbody tr th:only-of-type {\n",
       "        vertical-align: middle;\n",
       "    }\n",
       "\n",
       "    .dataframe tbody tr th {\n",
       "        vertical-align: top;\n",
       "    }\n",
       "\n",
       "    .dataframe thead th {\n",
       "        text-align: right;\n",
       "    }\n",
       "</style>\n",
       "<table border=\"1\" class=\"dataframe\">\n",
       "  <thead>\n",
       "    <tr style=\"text-align: right;\">\n",
       "      <th></th>\n",
       "      <th>PatientID</th>\n",
       "      <th>TreatmentStart</th>\n",
       "      <th>Drug</th>\n",
       "      <th>Dosage</th>\n",
       "    </tr>\n",
       "  </thead>\n",
       "  <tbody>\n",
       "    <tr>\n",
       "      <th>0</th>\n",
       "      <td>PT1</td>\n",
       "      <td>1/14/16</td>\n",
       "      <td>Cisplatin</td>\n",
       "      <td>200</td>\n",
       "    </tr>\n",
       "    <tr>\n",
       "      <th>1</th>\n",
       "      <td>PT20</td>\n",
       "      <td>01-02-2016</td>\n",
       "      <td>Cisplatin</td>\n",
       "      <td>140</td>\n",
       "    </tr>\n",
       "    <tr>\n",
       "      <th>2</th>\n",
       "      <td>PT2</td>\n",
       "      <td>01-10-2016</td>\n",
       "      <td>Cisplatin</td>\n",
       "      <td>180</td>\n",
       "    </tr>\n",
       "    <tr>\n",
       "      <th>3</th>\n",
       "      <td>PT3</td>\n",
       "      <td>1/24/16</td>\n",
       "      <td>Cisplatin</td>\n",
       "      <td>140</td>\n",
       "    </tr>\n",
       "    <tr>\n",
       "      <th>4</th>\n",
       "      <td>PT4</td>\n",
       "      <td>2/14/16</td>\n",
       "      <td>Cisplatin</td>\n",
       "      <td>200</td>\n",
       "    </tr>\n",
       "  </tbody>\n",
       "</table>\n",
       "</div>"
      ],
      "text/plain": [
       "  PatientID TreatmentStart       Drug  Dosage\n",
       "0       PT1        1/14/16  Cisplatin     200\n",
       "1      PT20     01-02-2016  Cisplatin     140\n",
       "2       PT2     01-10-2016  Cisplatin     180\n",
       "3       PT3        1/24/16  Cisplatin     140\n",
       "4       PT4        2/14/16  Cisplatin     200"
      ]
     },
     "execution_count": 22,
     "metadata": {},
     "output_type": "execute_result"
    }
   ],
   "source": [
    "df.head()"
   ]
  },
  {
   "cell_type": "code",
   "execution_count": 23,
   "metadata": {},
   "outputs": [],
   "source": [
    "df.sort_values([\"TreatmentStart\",\"PatientID\"], inplace = True)"
   ]
  },
  {
   "cell_type": "code",
   "execution_count": 24,
   "metadata": {},
   "outputs": [
    {
     "data": {
      "text/html": [
       "<div>\n",
       "<style scoped>\n",
       "    .dataframe tbody tr th:only-of-type {\n",
       "        vertical-align: middle;\n",
       "    }\n",
       "\n",
       "    .dataframe tbody tr th {\n",
       "        vertical-align: top;\n",
       "    }\n",
       "\n",
       "    .dataframe thead th {\n",
       "        text-align: right;\n",
       "    }\n",
       "</style>\n",
       "<table border=\"1\" class=\"dataframe\">\n",
       "  <thead>\n",
       "    <tr style=\"text-align: right;\">\n",
       "      <th></th>\n",
       "      <th>PatientID</th>\n",
       "      <th>TreatmentStart</th>\n",
       "      <th>Drug</th>\n",
       "      <th>Dosage</th>\n",
       "    </tr>\n",
       "  </thead>\n",
       "  <tbody>\n",
       "    <tr>\n",
       "      <th>1</th>\n",
       "      <td>PT20</td>\n",
       "      <td>01-02-2016</td>\n",
       "      <td>Cisplatin</td>\n",
       "      <td>140</td>\n",
       "    </tr>\n",
       "    <tr>\n",
       "      <th>2</th>\n",
       "      <td>PT2</td>\n",
       "      <td>01-10-2016</td>\n",
       "      <td>Cisplatin</td>\n",
       "      <td>180</td>\n",
       "    </tr>\n",
       "    <tr>\n",
       "      <th>6</th>\n",
       "      <td>PT5</td>\n",
       "      <td>02-06-2016</td>\n",
       "      <td>Cisplatin</td>\n",
       "      <td>190</td>\n",
       "    </tr>\n",
       "    <tr>\n",
       "      <th>5</th>\n",
       "      <td>PT19</td>\n",
       "      <td>02-10-2016</td>\n",
       "      <td>Cisplatin</td>\n",
       "      <td>180</td>\n",
       "    </tr>\n",
       "    <tr>\n",
       "      <th>7</th>\n",
       "      <td>PT6</td>\n",
       "      <td>03-01-2016</td>\n",
       "      <td>Cisplatin</td>\n",
       "      <td>180</td>\n",
       "    </tr>\n",
       "    <tr>\n",
       "      <th>8</th>\n",
       "      <td>PT7</td>\n",
       "      <td>03-01-2016</td>\n",
       "      <td>Cisplatin</td>\n",
       "      <td>210</td>\n",
       "    </tr>\n",
       "    <tr>\n",
       "      <th>11</th>\n",
       "      <td>PT10</td>\n",
       "      <td>04-07-2016</td>\n",
       "      <td>Nivolumab</td>\n",
       "      <td>240</td>\n",
       "    </tr>\n",
       "    <tr>\n",
       "      <th>12</th>\n",
       "      <td>PT10</td>\n",
       "      <td>04-07-2016</td>\n",
       "      <td>Cisplatin</td>\n",
       "      <td>140</td>\n",
       "    </tr>\n",
       "    <tr>\n",
       "      <th>14</th>\n",
       "      <td>PT16</td>\n",
       "      <td>04-09-2016</td>\n",
       "      <td>Cisplatin</td>\n",
       "      <td>160</td>\n",
       "    </tr>\n",
       "    <tr>\n",
       "      <th>17</th>\n",
       "      <td>PT14</td>\n",
       "      <td>05-03-2016</td>\n",
       "      <td>Nivolumab</td>\n",
       "      <td>240</td>\n",
       "    </tr>\n",
       "  </tbody>\n",
       "</table>\n",
       "</div>"
      ],
      "text/plain": [
       "   PatientID TreatmentStart       Drug  Dosage\n",
       "1       PT20     01-02-2016  Cisplatin     140\n",
       "2        PT2     01-10-2016  Cisplatin     180\n",
       "6        PT5     02-06-2016  Cisplatin     190\n",
       "5       PT19     02-10-2016  Cisplatin     180\n",
       "7        PT6     03-01-2016  Cisplatin     180\n",
       "8        PT7     03-01-2016  Cisplatin     210\n",
       "11      PT10     04-07-2016  Nivolumab     240\n",
       "12      PT10     04-07-2016  Cisplatin     140\n",
       "14      PT16     04-09-2016  Cisplatin     160\n",
       "17      PT14     05-03-2016  Nivolumab     240"
      ]
     },
     "execution_count": 24,
     "metadata": {},
     "output_type": "execute_result"
    }
   ],
   "source": [
    "df.head(10)"
   ]
  },
  {
   "cell_type": "markdown",
   "metadata": {},
   "source": [
    "### Part 2: Data Cleaning"
   ]
  },
  {
   "cell_type": "code",
   "execution_count": 25,
   "metadata": {},
   "outputs": [
    {
     "data": {
      "text/plain": [
       "PatientID         object\n",
       "TreatmentStart    object\n",
       "Drug              object\n",
       "Dosage             int64\n",
       "dtype: object"
      ]
     },
     "execution_count": 25,
     "metadata": {},
     "output_type": "execute_result"
    }
   ],
   "source": [
    "df.dtypes"
   ]
  },
  {
   "cell_type": "markdown",
   "metadata": {},
   "source": [
    "Data Conversion"
   ]
  },
  {
   "cell_type": "code",
   "execution_count": 26,
   "metadata": {},
   "outputs": [],
   "source": [
    "df[\"TreatmentStart\"] = pd.to_datetime(df[\"TreatmentStart\"])"
   ]
  },
  {
   "cell_type": "code",
   "execution_count": 27,
   "metadata": {},
   "outputs": [
    {
     "data": {
      "text/plain": [
       "1    2016-01-02\n",
       "2    2016-01-10\n",
       "6    2016-02-06\n",
       "5    2016-02-10\n",
       "7    2016-03-01\n",
       "8    2016-03-01\n",
       "11   2016-04-07\n",
       "12   2016-04-07\n",
       "14   2016-04-09\n",
       "17   2016-05-03\n",
       "18   2016-05-07\n",
       "22   2016-06-02\n",
       "23   2016-06-02\n",
       "21   2016-06-03\n",
       "0    2016-01-14\n",
       "3    2016-01-24\n",
       "4    2016-02-14\n",
       "9    2016-03-19\n",
       "10   2016-03-27\n",
       "13   2016-04-17\n",
       "15   2016-05-15\n",
       "16   2016-05-21\n",
       "19   2016-06-17\n",
       "20   2016-06-17\n",
       "Name: TreatmentStart, dtype: datetime64[ns]"
      ]
     },
     "execution_count": 27,
     "metadata": {},
     "output_type": "execute_result"
    }
   ],
   "source": [
    "df[\"TreatmentStart\"]"
   ]
  },
  {
   "cell_type": "code",
   "execution_count": 28,
   "metadata": {},
   "outputs": [
    {
     "data": {
      "text/plain": [
       "PatientID                 object\n",
       "TreatmentStart    datetime64[ns]\n",
       "Drug                      object\n",
       "Dosage                     int64\n",
       "dtype: object"
      ]
     },
     "execution_count": 28,
     "metadata": {},
     "output_type": "execute_result"
    }
   ],
   "source": [
    "df.dtypes"
   ]
  },
  {
   "cell_type": "code",
   "execution_count": 29,
   "metadata": {},
   "outputs": [],
   "source": [
    "df.TreatmentStart = pd.to_datetime(df.TreatmentStart)"
   ]
  },
  {
   "cell_type": "code",
   "execution_count": 30,
   "metadata": {},
   "outputs": [
    {
     "data": {
      "text/plain": [
       "1    2016-01-02\n",
       "2    2016-01-10\n",
       "6    2016-02-06\n",
       "5    2016-02-10\n",
       "7    2016-03-01\n",
       "8    2016-03-01\n",
       "11   2016-04-07\n",
       "12   2016-04-07\n",
       "14   2016-04-09\n",
       "17   2016-05-03\n",
       "18   2016-05-07\n",
       "22   2016-06-02\n",
       "23   2016-06-02\n",
       "21   2016-06-03\n",
       "0    2016-01-14\n",
       "3    2016-01-24\n",
       "4    2016-02-14\n",
       "9    2016-03-19\n",
       "10   2016-03-27\n",
       "13   2016-04-17\n",
       "15   2016-05-15\n",
       "16   2016-05-21\n",
       "19   2016-06-17\n",
       "20   2016-06-17\n",
       "Name: TreatmentStart, dtype: datetime64[ns]"
      ]
     },
     "execution_count": 30,
     "metadata": {},
     "output_type": "execute_result"
    }
   ],
   "source": [
    "df.TreatmentStart"
   ]
  },
  {
   "cell_type": "markdown",
   "metadata": {},
   "source": [
    "Sidebar : Copying Dataframes"
   ]
  },
  {
   "cell_type": "code",
   "execution_count": 31,
   "metadata": {},
   "outputs": [],
   "source": [
    "df1 = df\n",
    "df1[\"NewColumn\"] = 1"
   ]
  },
  {
   "cell_type": "code",
   "execution_count": 32,
   "metadata": {},
   "outputs": [
    {
     "data": {
      "text/html": [
       "<div>\n",
       "<style scoped>\n",
       "    .dataframe tbody tr th:only-of-type {\n",
       "        vertical-align: middle;\n",
       "    }\n",
       "\n",
       "    .dataframe tbody tr th {\n",
       "        vertical-align: top;\n",
       "    }\n",
       "\n",
       "    .dataframe thead th {\n",
       "        text-align: right;\n",
       "    }\n",
       "</style>\n",
       "<table border=\"1\" class=\"dataframe\">\n",
       "  <thead>\n",
       "    <tr style=\"text-align: right;\">\n",
       "      <th></th>\n",
       "      <th>PatientID</th>\n",
       "      <th>TreatmentStart</th>\n",
       "      <th>Drug</th>\n",
       "      <th>Dosage</th>\n",
       "      <th>NewColumn</th>\n",
       "    </tr>\n",
       "  </thead>\n",
       "  <tbody>\n",
       "    <tr>\n",
       "      <th>1</th>\n",
       "      <td>PT20</td>\n",
       "      <td>2016-01-02</td>\n",
       "      <td>Cisplatin</td>\n",
       "      <td>140</td>\n",
       "      <td>1</td>\n",
       "    </tr>\n",
       "    <tr>\n",
       "      <th>2</th>\n",
       "      <td>PT2</td>\n",
       "      <td>2016-01-10</td>\n",
       "      <td>Cisplatin</td>\n",
       "      <td>180</td>\n",
       "      <td>1</td>\n",
       "    </tr>\n",
       "    <tr>\n",
       "      <th>6</th>\n",
       "      <td>PT5</td>\n",
       "      <td>2016-02-06</td>\n",
       "      <td>Cisplatin</td>\n",
       "      <td>190</td>\n",
       "      <td>1</td>\n",
       "    </tr>\n",
       "    <tr>\n",
       "      <th>5</th>\n",
       "      <td>PT19</td>\n",
       "      <td>2016-02-10</td>\n",
       "      <td>Cisplatin</td>\n",
       "      <td>180</td>\n",
       "      <td>1</td>\n",
       "    </tr>\n",
       "    <tr>\n",
       "      <th>7</th>\n",
       "      <td>PT6</td>\n",
       "      <td>2016-03-01</td>\n",
       "      <td>Cisplatin</td>\n",
       "      <td>180</td>\n",
       "      <td>1</td>\n",
       "    </tr>\n",
       "    <tr>\n",
       "      <th>8</th>\n",
       "      <td>PT7</td>\n",
       "      <td>2016-03-01</td>\n",
       "      <td>Cisplatin</td>\n",
       "      <td>210</td>\n",
       "      <td>1</td>\n",
       "    </tr>\n",
       "    <tr>\n",
       "      <th>11</th>\n",
       "      <td>PT10</td>\n",
       "      <td>2016-04-07</td>\n",
       "      <td>Nivolumab</td>\n",
       "      <td>240</td>\n",
       "      <td>1</td>\n",
       "    </tr>\n",
       "    <tr>\n",
       "      <th>12</th>\n",
       "      <td>PT10</td>\n",
       "      <td>2016-04-07</td>\n",
       "      <td>Cisplatin</td>\n",
       "      <td>140</td>\n",
       "      <td>1</td>\n",
       "    </tr>\n",
       "    <tr>\n",
       "      <th>14</th>\n",
       "      <td>PT16</td>\n",
       "      <td>2016-04-09</td>\n",
       "      <td>Cisplatin</td>\n",
       "      <td>160</td>\n",
       "      <td>1</td>\n",
       "    </tr>\n",
       "    <tr>\n",
       "      <th>17</th>\n",
       "      <td>PT14</td>\n",
       "      <td>2016-05-03</td>\n",
       "      <td>Nivolumab</td>\n",
       "      <td>240</td>\n",
       "      <td>1</td>\n",
       "    </tr>\n",
       "    <tr>\n",
       "      <th>18</th>\n",
       "      <td>PT15</td>\n",
       "      <td>2016-05-07</td>\n",
       "      <td>Nivolumab</td>\n",
       "      <td>240</td>\n",
       "      <td>1</td>\n",
       "    </tr>\n",
       "    <tr>\n",
       "      <th>22</th>\n",
       "      <td>PT19</td>\n",
       "      <td>2016-06-02</td>\n",
       "      <td>Nivolumab</td>\n",
       "      <td>240</td>\n",
       "      <td>1</td>\n",
       "    </tr>\n",
       "    <tr>\n",
       "      <th>23</th>\n",
       "      <td>PT20</td>\n",
       "      <td>2016-06-02</td>\n",
       "      <td>Nivolumab</td>\n",
       "      <td>240</td>\n",
       "      <td>1</td>\n",
       "    </tr>\n",
       "    <tr>\n",
       "      <th>21</th>\n",
       "      <td>PT18</td>\n",
       "      <td>2016-06-03</td>\n",
       "      <td>Nivolumab</td>\n",
       "      <td>240</td>\n",
       "      <td>1</td>\n",
       "    </tr>\n",
       "    <tr>\n",
       "      <th>0</th>\n",
       "      <td>PT1</td>\n",
       "      <td>2016-01-14</td>\n",
       "      <td>Cisplatin</td>\n",
       "      <td>200</td>\n",
       "      <td>1</td>\n",
       "    </tr>\n",
       "    <tr>\n",
       "      <th>3</th>\n",
       "      <td>PT3</td>\n",
       "      <td>2016-01-24</td>\n",
       "      <td>Cisplatin</td>\n",
       "      <td>140</td>\n",
       "      <td>1</td>\n",
       "    </tr>\n",
       "    <tr>\n",
       "      <th>4</th>\n",
       "      <td>PT4</td>\n",
       "      <td>2016-02-14</td>\n",
       "      <td>Cisplatin</td>\n",
       "      <td>200</td>\n",
       "      <td>1</td>\n",
       "    </tr>\n",
       "    <tr>\n",
       "      <th>9</th>\n",
       "      <td>PT8</td>\n",
       "      <td>2016-03-19</td>\n",
       "      <td>Cisplatin</td>\n",
       "      <td>180</td>\n",
       "      <td>1</td>\n",
       "    </tr>\n",
       "    <tr>\n",
       "      <th>10</th>\n",
       "      <td>PT9</td>\n",
       "      <td>2016-03-27</td>\n",
       "      <td>Nivolumab</td>\n",
       "      <td>240</td>\n",
       "      <td>1</td>\n",
       "    </tr>\n",
       "    <tr>\n",
       "      <th>13</th>\n",
       "      <td>PT11</td>\n",
       "      <td>2016-04-17</td>\n",
       "      <td>Cisplatin</td>\n",
       "      <td>190</td>\n",
       "      <td>1</td>\n",
       "    </tr>\n",
       "    <tr>\n",
       "      <th>15</th>\n",
       "      <td>PT12</td>\n",
       "      <td>2016-05-15</td>\n",
       "      <td>Cisplatin</td>\n",
       "      <td>1800</td>\n",
       "      <td>1</td>\n",
       "    </tr>\n",
       "    <tr>\n",
       "      <th>16</th>\n",
       "      <td>PT13</td>\n",
       "      <td>2016-05-21</td>\n",
       "      <td>Cisplatin</td>\n",
       "      <td>180</td>\n",
       "      <td>1</td>\n",
       "    </tr>\n",
       "    <tr>\n",
       "      <th>19</th>\n",
       "      <td>PT1</td>\n",
       "      <td>2016-06-17</td>\n",
       "      <td>Nivolumab</td>\n",
       "      <td>240</td>\n",
       "      <td>1</td>\n",
       "    </tr>\n",
       "    <tr>\n",
       "      <th>20</th>\n",
       "      <td>PT17</td>\n",
       "      <td>2016-06-17</td>\n",
       "      <td>Cisplatin</td>\n",
       "      <td>160</td>\n",
       "      <td>1</td>\n",
       "    </tr>\n",
       "  </tbody>\n",
       "</table>\n",
       "</div>"
      ],
      "text/plain": [
       "   PatientID TreatmentStart       Drug  Dosage  NewColumn\n",
       "1       PT20     2016-01-02  Cisplatin     140          1\n",
       "2        PT2     2016-01-10  Cisplatin     180          1\n",
       "6        PT5     2016-02-06  Cisplatin     190          1\n",
       "5       PT19     2016-02-10  Cisplatin     180          1\n",
       "7        PT6     2016-03-01  Cisplatin     180          1\n",
       "8        PT7     2016-03-01  Cisplatin     210          1\n",
       "11      PT10     2016-04-07  Nivolumab     240          1\n",
       "12      PT10     2016-04-07  Cisplatin     140          1\n",
       "14      PT16     2016-04-09  Cisplatin     160          1\n",
       "17      PT14     2016-05-03  Nivolumab     240          1\n",
       "18      PT15     2016-05-07  Nivolumab     240          1\n",
       "22      PT19     2016-06-02  Nivolumab     240          1\n",
       "23      PT20     2016-06-02  Nivolumab     240          1\n",
       "21      PT18     2016-06-03  Nivolumab     240          1\n",
       "0        PT1     2016-01-14  Cisplatin     200          1\n",
       "3        PT3     2016-01-24  Cisplatin     140          1\n",
       "4        PT4     2016-02-14  Cisplatin     200          1\n",
       "9        PT8     2016-03-19  Cisplatin     180          1\n",
       "10       PT9     2016-03-27  Nivolumab     240          1\n",
       "13      PT11     2016-04-17  Cisplatin     190          1\n",
       "15      PT12     2016-05-15  Cisplatin    1800          1\n",
       "16      PT13     2016-05-21  Cisplatin     180          1\n",
       "19       PT1     2016-06-17  Nivolumab     240          1\n",
       "20      PT17     2016-06-17  Cisplatin     160          1"
      ]
     },
     "execution_count": 32,
     "metadata": {},
     "output_type": "execute_result"
    }
   ],
   "source": [
    "df1"
   ]
  },
  {
   "cell_type": "code",
   "execution_count": 33,
   "metadata": {},
   "outputs": [
    {
     "data": {
      "text/html": [
       "<div>\n",
       "<style scoped>\n",
       "    .dataframe tbody tr th:only-of-type {\n",
       "        vertical-align: middle;\n",
       "    }\n",
       "\n",
       "    .dataframe tbody tr th {\n",
       "        vertical-align: top;\n",
       "    }\n",
       "\n",
       "    .dataframe thead th {\n",
       "        text-align: right;\n",
       "    }\n",
       "</style>\n",
       "<table border=\"1\" class=\"dataframe\">\n",
       "  <thead>\n",
       "    <tr style=\"text-align: right;\">\n",
       "      <th></th>\n",
       "      <th>PatientID</th>\n",
       "      <th>TreatmentStart</th>\n",
       "      <th>Drug</th>\n",
       "      <th>Dosage</th>\n",
       "      <th>NewColumn</th>\n",
       "    </tr>\n",
       "  </thead>\n",
       "  <tbody>\n",
       "    <tr>\n",
       "      <th>1</th>\n",
       "      <td>PT20</td>\n",
       "      <td>2016-01-02</td>\n",
       "      <td>Cisplatin</td>\n",
       "      <td>140</td>\n",
       "      <td>1</td>\n",
       "    </tr>\n",
       "    <tr>\n",
       "      <th>2</th>\n",
       "      <td>PT2</td>\n",
       "      <td>2016-01-10</td>\n",
       "      <td>Cisplatin</td>\n",
       "      <td>180</td>\n",
       "      <td>1</td>\n",
       "    </tr>\n",
       "    <tr>\n",
       "      <th>6</th>\n",
       "      <td>PT5</td>\n",
       "      <td>2016-02-06</td>\n",
       "      <td>Cisplatin</td>\n",
       "      <td>190</td>\n",
       "      <td>1</td>\n",
       "    </tr>\n",
       "    <tr>\n",
       "      <th>5</th>\n",
       "      <td>PT19</td>\n",
       "      <td>2016-02-10</td>\n",
       "      <td>Cisplatin</td>\n",
       "      <td>180</td>\n",
       "      <td>1</td>\n",
       "    </tr>\n",
       "    <tr>\n",
       "      <th>7</th>\n",
       "      <td>PT6</td>\n",
       "      <td>2016-03-01</td>\n",
       "      <td>Cisplatin</td>\n",
       "      <td>180</td>\n",
       "      <td>1</td>\n",
       "    </tr>\n",
       "  </tbody>\n",
       "</table>\n",
       "</div>"
      ],
      "text/plain": [
       "  PatientID TreatmentStart       Drug  Dosage  NewColumn\n",
       "1      PT20     2016-01-02  Cisplatin     140          1\n",
       "2       PT2     2016-01-10  Cisplatin     180          1\n",
       "6       PT5     2016-02-06  Cisplatin     190          1\n",
       "5      PT19     2016-02-10  Cisplatin     180          1\n",
       "7       PT6     2016-03-01  Cisplatin     180          1"
      ]
     },
     "execution_count": 33,
     "metadata": {},
     "output_type": "execute_result"
    }
   ],
   "source": [
    "df1.head()"
   ]
  },
  {
   "cell_type": "code",
   "execution_count": 34,
   "metadata": {},
   "outputs": [
    {
     "data": {
      "text/html": [
       "<div>\n",
       "<style scoped>\n",
       "    .dataframe tbody tr th:only-of-type {\n",
       "        vertical-align: middle;\n",
       "    }\n",
       "\n",
       "    .dataframe tbody tr th {\n",
       "        vertical-align: top;\n",
       "    }\n",
       "\n",
       "    .dataframe thead th {\n",
       "        text-align: right;\n",
       "    }\n",
       "</style>\n",
       "<table border=\"1\" class=\"dataframe\">\n",
       "  <thead>\n",
       "    <tr style=\"text-align: right;\">\n",
       "      <th></th>\n",
       "      <th>PatientID</th>\n",
       "      <th>TreatmentStart</th>\n",
       "      <th>Drug</th>\n",
       "      <th>Dosage</th>\n",
       "      <th>NewColumn</th>\n",
       "    </tr>\n",
       "  </thead>\n",
       "  <tbody>\n",
       "    <tr>\n",
       "      <th>1</th>\n",
       "      <td>PT20</td>\n",
       "      <td>2016-01-02</td>\n",
       "      <td>Cisplatin</td>\n",
       "      <td>140</td>\n",
       "      <td>1</td>\n",
       "    </tr>\n",
       "    <tr>\n",
       "      <th>2</th>\n",
       "      <td>PT2</td>\n",
       "      <td>2016-01-10</td>\n",
       "      <td>Cisplatin</td>\n",
       "      <td>180</td>\n",
       "      <td>1</td>\n",
       "    </tr>\n",
       "    <tr>\n",
       "      <th>6</th>\n",
       "      <td>PT5</td>\n",
       "      <td>2016-02-06</td>\n",
       "      <td>Cisplatin</td>\n",
       "      <td>190</td>\n",
       "      <td>1</td>\n",
       "    </tr>\n",
       "    <tr>\n",
       "      <th>5</th>\n",
       "      <td>PT19</td>\n",
       "      <td>2016-02-10</td>\n",
       "      <td>Cisplatin</td>\n",
       "      <td>180</td>\n",
       "      <td>1</td>\n",
       "    </tr>\n",
       "    <tr>\n",
       "      <th>7</th>\n",
       "      <td>PT6</td>\n",
       "      <td>2016-03-01</td>\n",
       "      <td>Cisplatin</td>\n",
       "      <td>180</td>\n",
       "      <td>1</td>\n",
       "    </tr>\n",
       "  </tbody>\n",
       "</table>\n",
       "</div>"
      ],
      "text/plain": [
       "  PatientID TreatmentStart       Drug  Dosage  NewColumn\n",
       "1      PT20     2016-01-02  Cisplatin     140          1\n",
       "2       PT2     2016-01-10  Cisplatin     180          1\n",
       "6       PT5     2016-02-06  Cisplatin     190          1\n",
       "5      PT19     2016-02-10  Cisplatin     180          1\n",
       "7       PT6     2016-03-01  Cisplatin     180          1"
      ]
     },
     "execution_count": 34,
     "metadata": {},
     "output_type": "execute_result"
    }
   ],
   "source": [
    "df.head()"
   ]
  },
  {
   "cell_type": "code",
   "execution_count": 35,
   "metadata": {},
   "outputs": [
    {
     "data": {
      "text/html": [
       "<div>\n",
       "<style scoped>\n",
       "    .dataframe tbody tr th:only-of-type {\n",
       "        vertical-align: middle;\n",
       "    }\n",
       "\n",
       "    .dataframe tbody tr th {\n",
       "        vertical-align: top;\n",
       "    }\n",
       "\n",
       "    .dataframe thead th {\n",
       "        text-align: right;\n",
       "    }\n",
       "</style>\n",
       "<table border=\"1\" class=\"dataframe\">\n",
       "  <thead>\n",
       "    <tr style=\"text-align: right;\">\n",
       "      <th></th>\n",
       "      <th>PatientID</th>\n",
       "      <th>TreatmentStart</th>\n",
       "      <th>Drug</th>\n",
       "      <th>Dosage</th>\n",
       "    </tr>\n",
       "  </thead>\n",
       "  <tbody>\n",
       "    <tr>\n",
       "      <th>1</th>\n",
       "      <td>PT20</td>\n",
       "      <td>2016-01-02</td>\n",
       "      <td>Cisplatin</td>\n",
       "      <td>140</td>\n",
       "    </tr>\n",
       "    <tr>\n",
       "      <th>2</th>\n",
       "      <td>PT2</td>\n",
       "      <td>2016-01-10</td>\n",
       "      <td>Cisplatin</td>\n",
       "      <td>180</td>\n",
       "    </tr>\n",
       "    <tr>\n",
       "      <th>6</th>\n",
       "      <td>PT5</td>\n",
       "      <td>2016-02-06</td>\n",
       "      <td>Cisplatin</td>\n",
       "      <td>190</td>\n",
       "    </tr>\n",
       "    <tr>\n",
       "      <th>5</th>\n",
       "      <td>PT19</td>\n",
       "      <td>2016-02-10</td>\n",
       "      <td>Cisplatin</td>\n",
       "      <td>180</td>\n",
       "    </tr>\n",
       "    <tr>\n",
       "      <th>7</th>\n",
       "      <td>PT6</td>\n",
       "      <td>2016-03-01</td>\n",
       "      <td>Cisplatin</td>\n",
       "      <td>180</td>\n",
       "    </tr>\n",
       "  </tbody>\n",
       "</table>\n",
       "</div>"
      ],
      "text/plain": [
       "  PatientID TreatmentStart       Drug  Dosage\n",
       "1      PT20     2016-01-02  Cisplatin     140\n",
       "2       PT2     2016-01-10  Cisplatin     180\n",
       "6       PT5     2016-02-06  Cisplatin     190\n",
       "5      PT19     2016-02-10  Cisplatin     180\n",
       "7       PT6     2016-03-01  Cisplatin     180"
      ]
     },
     "execution_count": 35,
     "metadata": {},
     "output_type": "execute_result"
    }
   ],
   "source": [
    "if \"NewColumn\" in df.columns:\n",
    "    df.drop(\"NewColumn\", axis = 1, inplace = True)\n",
    "df1 = df.copy()\n",
    "df1[\"NewColumn\"] = 1\n",
    "df.head()"
   ]
  },
  {
   "cell_type": "markdown",
   "metadata": {},
   "source": [
    "\n",
    "### Part 3 : Data Analysis\n",
    "\n",
    "Question 1 : Patients treated at the practice; How many patients does the pratice treat ?"
   ]
  },
  {
   "cell_type": "code",
   "execution_count": 37,
   "metadata": {},
   "outputs": [
    {
     "name": "stdout",
     "output_type": "stream",
     "text": [
      "Number of treatment start records: 24\n",
      "Number of unique patients who start treatment: 20\n"
     ]
    }
   ],
   "source": [
    "print(\"Number of treatment start records:\", len(df))\n",
    "print(\"Number of unique patients who start treatment:\", len(df.PatientID.unique()))"
   ]
  },
  {
   "cell_type": "markdown",
   "metadata": {},
   "source": [
    "Question 2: Drug used at the practice.\n",
    "\n",
    "What are the drugs used at the practice and how many patients receive those drugs?"
   ]
  },
  {
   "cell_type": "code",
   "execution_count": 38,
   "metadata": {},
   "outputs": [
    {
     "data": {
      "text/plain": [
       "<pandas.core.groupby.generic.DataFrameGroupBy object at 0x000001D033501C88>"
      ]
     },
     "execution_count": 38,
     "metadata": {},
     "output_type": "execute_result"
    }
   ],
   "source": [
    "df.groupby(\"Drug\")"
   ]
  },
  {
   "cell_type": "code",
   "execution_count": 39,
   "metadata": {},
   "outputs": [
    {
     "data": {
      "text/html": [
       "<div>\n",
       "<style scoped>\n",
       "    .dataframe tbody tr th:only-of-type {\n",
       "        vertical-align: middle;\n",
       "    }\n",
       "\n",
       "    .dataframe tbody tr th {\n",
       "        vertical-align: top;\n",
       "    }\n",
       "\n",
       "    .dataframe thead th {\n",
       "        text-align: right;\n",
       "    }\n",
       "</style>\n",
       "<table border=\"1\" class=\"dataframe\">\n",
       "  <thead>\n",
       "    <tr style=\"text-align: right;\">\n",
       "      <th></th>\n",
       "      <th>PatientID</th>\n",
       "      <th>TreatmentStart</th>\n",
       "      <th>Dosage</th>\n",
       "    </tr>\n",
       "    <tr>\n",
       "      <th>Drug</th>\n",
       "      <th></th>\n",
       "      <th></th>\n",
       "      <th></th>\n",
       "    </tr>\n",
       "  </thead>\n",
       "  <tbody>\n",
       "    <tr>\n",
       "      <th>Cisplatin</th>\n",
       "      <td>16</td>\n",
       "      <td>16</td>\n",
       "      <td>16</td>\n",
       "    </tr>\n",
       "    <tr>\n",
       "      <th>Nivolumab</th>\n",
       "      <td>8</td>\n",
       "      <td>8</td>\n",
       "      <td>8</td>\n",
       "    </tr>\n",
       "  </tbody>\n",
       "</table>\n",
       "</div>"
      ],
      "text/plain": [
       "           PatientID  TreatmentStart  Dosage\n",
       "Drug                                        \n",
       "Cisplatin         16              16      16\n",
       "Nivolumab          8               8       8"
      ]
     },
     "execution_count": 39,
     "metadata": {},
     "output_type": "execute_result"
    }
   ],
   "source": [
    "df.groupby(\"Drug\").count()"
   ]
  },
  {
   "cell_type": "code",
   "execution_count": 40,
   "metadata": {},
   "outputs": [
    {
     "data": {
      "text/html": [
       "<div>\n",
       "<style scoped>\n",
       "    .dataframe tbody tr th:only-of-type {\n",
       "        vertical-align: middle;\n",
       "    }\n",
       "\n",
       "    .dataframe tbody tr th {\n",
       "        vertical-align: top;\n",
       "    }\n",
       "\n",
       "    .dataframe thead th {\n",
       "        text-align: right;\n",
       "    }\n",
       "</style>\n",
       "<table border=\"1\" class=\"dataframe\">\n",
       "  <thead>\n",
       "    <tr style=\"text-align: right;\">\n",
       "      <th></th>\n",
       "      <th>PatientID</th>\n",
       "    </tr>\n",
       "    <tr>\n",
       "      <th>Drug</th>\n",
       "      <th></th>\n",
       "    </tr>\n",
       "  </thead>\n",
       "  <tbody>\n",
       "    <tr>\n",
       "      <th>Cisplatin</th>\n",
       "      <td>16</td>\n",
       "    </tr>\n",
       "    <tr>\n",
       "      <th>Nivolumab</th>\n",
       "      <td>8</td>\n",
       "    </tr>\n",
       "  </tbody>\n",
       "</table>\n",
       "</div>"
      ],
      "text/plain": [
       "           PatientID\n",
       "Drug                \n",
       "Cisplatin         16\n",
       "Nivolumab          8"
      ]
     },
     "execution_count": 40,
     "metadata": {},
     "output_type": "execute_result"
    }
   ],
   "source": [
    "df.groupby(\"Drug\").count()[[\"PatientID\"]]"
   ]
  },
  {
   "cell_type": "code",
   "execution_count": 41,
   "metadata": {},
   "outputs": [
    {
     "data": {
      "text/html": [
       "<div>\n",
       "<style scoped>\n",
       "    .dataframe tbody tr th:only-of-type {\n",
       "        vertical-align: middle;\n",
       "    }\n",
       "\n",
       "    .dataframe tbody tr th {\n",
       "        vertical-align: top;\n",
       "    }\n",
       "\n",
       "    .dataframe thead th {\n",
       "        text-align: right;\n",
       "    }\n",
       "</style>\n",
       "<table border=\"1\" class=\"dataframe\">\n",
       "  <thead>\n",
       "    <tr style=\"text-align: right;\">\n",
       "      <th></th>\n",
       "      <th>PatientID</th>\n",
       "      <th>TreatmentStart</th>\n",
       "      <th>Drug</th>\n",
       "      <th>Dosage</th>\n",
       "    </tr>\n",
       "    <tr>\n",
       "      <th>Drug</th>\n",
       "      <th></th>\n",
       "      <th></th>\n",
       "      <th></th>\n",
       "      <th></th>\n",
       "    </tr>\n",
       "  </thead>\n",
       "  <tbody>\n",
       "    <tr>\n",
       "      <th>Cisplatin</th>\n",
       "      <td>16</td>\n",
       "      <td>15</td>\n",
       "      <td>1</td>\n",
       "      <td>7</td>\n",
       "    </tr>\n",
       "    <tr>\n",
       "      <th>Nivolumab</th>\n",
       "      <td>8</td>\n",
       "      <td>7</td>\n",
       "      <td>1</td>\n",
       "      <td>1</td>\n",
       "    </tr>\n",
       "  </tbody>\n",
       "</table>\n",
       "</div>"
      ],
      "text/plain": [
       "           PatientID  TreatmentStart  Drug  Dosage\n",
       "Drug                                              \n",
       "Cisplatin         16              15     1       7\n",
       "Nivolumab          8               7     1       1"
      ]
     },
     "execution_count": 41,
     "metadata": {},
     "output_type": "execute_result"
    }
   ],
   "source": [
    "df.groupby(\"Drug\").nunique()"
   ]
  },
  {
   "cell_type": "markdown",
   "metadata": {},
   "source": [
    "A Bit About Indexes and Dataframe "
   ]
  },
  {
   "cell_type": "code",
   "execution_count": 42,
   "metadata": {},
   "outputs": [
    {
     "data": {
      "text/html": [
       "<div>\n",
       "<style scoped>\n",
       "    .dataframe tbody tr th:only-of-type {\n",
       "        vertical-align: middle;\n",
       "    }\n",
       "\n",
       "    .dataframe tbody tr th {\n",
       "        vertical-align: top;\n",
       "    }\n",
       "\n",
       "    .dataframe thead th {\n",
       "        text-align: right;\n",
       "    }\n",
       "</style>\n",
       "<table border=\"1\" class=\"dataframe\">\n",
       "  <thead>\n",
       "    <tr style=\"text-align: right;\">\n",
       "      <th></th>\n",
       "      <th>PatientID</th>\n",
       "    </tr>\n",
       "    <tr>\n",
       "      <th>Drug</th>\n",
       "      <th></th>\n",
       "    </tr>\n",
       "  </thead>\n",
       "  <tbody>\n",
       "    <tr>\n",
       "      <th>Cisplatin</th>\n",
       "      <td>16</td>\n",
       "    </tr>\n",
       "    <tr>\n",
       "      <th>Nivolumab</th>\n",
       "      <td>8</td>\n",
       "    </tr>\n",
       "  </tbody>\n",
       "</table>\n",
       "</div>"
      ],
      "text/plain": [
       "           PatientID\n",
       "Drug                \n",
       "Cisplatin         16\n",
       "Nivolumab          8"
      ]
     },
     "execution_count": 42,
     "metadata": {},
     "output_type": "execute_result"
    }
   ],
   "source": [
    "df.groupby(\"Drug\").count()[[\"PatientID\"]]"
   ]
  },
  {
   "cell_type": "code",
   "execution_count": 43,
   "metadata": {},
   "outputs": [
    {
     "data": {
      "text/html": [
       "<div>\n",
       "<style scoped>\n",
       "    .dataframe tbody tr th:only-of-type {\n",
       "        vertical-align: middle;\n",
       "    }\n",
       "\n",
       "    .dataframe tbody tr th {\n",
       "        vertical-align: top;\n",
       "    }\n",
       "\n",
       "    .dataframe thead th {\n",
       "        text-align: right;\n",
       "    }\n",
       "</style>\n",
       "<table border=\"1\" class=\"dataframe\">\n",
       "  <thead>\n",
       "    <tr style=\"text-align: right;\">\n",
       "      <th></th>\n",
       "      <th>Drug</th>\n",
       "      <th>PatientID</th>\n",
       "    </tr>\n",
       "  </thead>\n",
       "  <tbody>\n",
       "    <tr>\n",
       "      <th>0</th>\n",
       "      <td>Cisplatin</td>\n",
       "      <td>16</td>\n",
       "    </tr>\n",
       "    <tr>\n",
       "      <th>1</th>\n",
       "      <td>Nivolumab</td>\n",
       "      <td>8</td>\n",
       "    </tr>\n",
       "  </tbody>\n",
       "</table>\n",
       "</div>"
      ],
      "text/plain": [
       "        Drug  PatientID\n",
       "0  Cisplatin         16\n",
       "1  Nivolumab          8"
      ]
     },
     "execution_count": 43,
     "metadata": {},
     "output_type": "execute_result"
    }
   ],
   "source": [
    "df.groupby(\"Drug\").count()[[\"PatientID\"]].reset_index()"
   ]
  },
  {
   "cell_type": "code",
   "execution_count": 44,
   "metadata": {},
   "outputs": [
    {
     "data": {
      "text/html": [
       "<div>\n",
       "<style scoped>\n",
       "    .dataframe tbody tr th:only-of-type {\n",
       "        vertical-align: middle;\n",
       "    }\n",
       "\n",
       "    .dataframe tbody tr th {\n",
       "        vertical-align: top;\n",
       "    }\n",
       "\n",
       "    .dataframe thead th {\n",
       "        text-align: right;\n",
       "    }\n",
       "</style>\n",
       "<table border=\"1\" class=\"dataframe\">\n",
       "  <thead>\n",
       "    <tr style=\"text-align: right;\">\n",
       "      <th></th>\n",
       "      <th>PatientID</th>\n",
       "      <th>TreatmentStart</th>\n",
       "      <th>Drug</th>\n",
       "      <th>Dosage</th>\n",
       "    </tr>\n",
       "  </thead>\n",
       "  <tbody>\n",
       "    <tr>\n",
       "      <th>1</th>\n",
       "      <td>PT20</td>\n",
       "      <td>2016-01-02</td>\n",
       "      <td>Cisplatin</td>\n",
       "      <td>140</td>\n",
       "    </tr>\n",
       "    <tr>\n",
       "      <th>2</th>\n",
       "      <td>PT2</td>\n",
       "      <td>2016-01-10</td>\n",
       "      <td>Cisplatin</td>\n",
       "      <td>180</td>\n",
       "    </tr>\n",
       "    <tr>\n",
       "      <th>6</th>\n",
       "      <td>PT5</td>\n",
       "      <td>2016-02-06</td>\n",
       "      <td>Cisplatin</td>\n",
       "      <td>190</td>\n",
       "    </tr>\n",
       "    <tr>\n",
       "      <th>5</th>\n",
       "      <td>PT19</td>\n",
       "      <td>2016-02-10</td>\n",
       "      <td>Cisplatin</td>\n",
       "      <td>180</td>\n",
       "    </tr>\n",
       "    <tr>\n",
       "      <th>7</th>\n",
       "      <td>PT6</td>\n",
       "      <td>2016-03-01</td>\n",
       "      <td>Cisplatin</td>\n",
       "      <td>180</td>\n",
       "    </tr>\n",
       "  </tbody>\n",
       "</table>\n",
       "</div>"
      ],
      "text/plain": [
       "  PatientID TreatmentStart       Drug  Dosage\n",
       "1      PT20     2016-01-02  Cisplatin     140\n",
       "2       PT2     2016-01-10  Cisplatin     180\n",
       "6       PT5     2016-02-06  Cisplatin     190\n",
       "5      PT19     2016-02-10  Cisplatin     180\n",
       "7       PT6     2016-03-01  Cisplatin     180"
      ]
     },
     "execution_count": 44,
     "metadata": {},
     "output_type": "execute_result"
    }
   ],
   "source": [
    "df.head()"
   ]
  },
  {
   "cell_type": "markdown",
   "metadata": {},
   "source": [
    "Plots with Seaborn Library"
   ]
  },
  {
   "cell_type": "code",
   "execution_count": 48,
   "metadata": {},
   "outputs": [
    {
     "data": {
      "image/png": "[encoded data removed]",
      "text/plain": [
       "<Figure size 432x288 with 1 Axes>"
      ]
     },
     "metadata": {
      "needs_background": "light"
     },
     "output_type": "display_data"
    }
   ],
   "source": [
    "import seaborn as sns\n",
    "counts = df.groupby(\"Drug\").count()[[\"PatientID\"]].reset_index()\n",
    "fig = sns.barplot(data = counts, x = \"Drug\", y = \"PatientID\")\n",
    "plt.title(\"Number of patient starts by drug.\")\n",
    "plt.ylabel(\"Number of patients starts.\")\n",
    "plt.xlabel(\"Drug\")\n",
    "plt.show(fig)"
   ]
  },
  {
   "cell_type": "markdown",
   "metadata": {},
   "source": [
    "Question 3: Changes To Treatment Over Time."
   ]
  },
  {
   "cell_type": "code",
   "execution_count": 50,
   "metadata": {},
   "outputs": [
    {
     "data": {
      "text/html": [
       "<div>\n",
       "<style scoped>\n",
       "    .dataframe tbody tr th:only-of-type {\n",
       "        vertical-align: middle;\n",
       "    }\n",
       "\n",
       "    .dataframe tbody tr th {\n",
       "        vertical-align: top;\n",
       "    }\n",
       "\n",
       "    .dataframe thead th {\n",
       "        text-align: right;\n",
       "    }\n",
       "</style>\n",
       "<table border=\"1\" class=\"dataframe\">\n",
       "  <thead>\n",
       "    <tr style=\"text-align: right;\">\n",
       "      <th></th>\n",
       "      <th>PatientID</th>\n",
       "      <th>TreatmentStart</th>\n",
       "      <th>Drug</th>\n",
       "      <th>Dosage</th>\n",
       "      <th>TreatmentStartMonth</th>\n",
       "    </tr>\n",
       "  </thead>\n",
       "  <tbody>\n",
       "    <tr>\n",
       "      <th>1</th>\n",
       "      <td>PT20</td>\n",
       "      <td>2016-01-02</td>\n",
       "      <td>Cisplatin</td>\n",
       "      <td>140</td>\n",
       "      <td>2016-01-01</td>\n",
       "    </tr>\n",
       "    <tr>\n",
       "      <th>2</th>\n",
       "      <td>PT2</td>\n",
       "      <td>2016-01-10</td>\n",
       "      <td>Cisplatin</td>\n",
       "      <td>180</td>\n",
       "      <td>2016-01-01</td>\n",
       "    </tr>\n",
       "    <tr>\n",
       "      <th>6</th>\n",
       "      <td>PT5</td>\n",
       "      <td>2016-02-06</td>\n",
       "      <td>Cisplatin</td>\n",
       "      <td>190</td>\n",
       "      <td>2016-02-01</td>\n",
       "    </tr>\n",
       "    <tr>\n",
       "      <th>5</th>\n",
       "      <td>PT19</td>\n",
       "      <td>2016-02-10</td>\n",
       "      <td>Cisplatin</td>\n",
       "      <td>180</td>\n",
       "      <td>2016-02-01</td>\n",
       "    </tr>\n",
       "    <tr>\n",
       "      <th>7</th>\n",
       "      <td>PT6</td>\n",
       "      <td>2016-03-01</td>\n",
       "      <td>Cisplatin</td>\n",
       "      <td>180</td>\n",
       "      <td>2016-03-01</td>\n",
       "    </tr>\n",
       "  </tbody>\n",
       "</table>\n",
       "</div>"
      ],
      "text/plain": [
       "  PatientID TreatmentStart       Drug  Dosage TreatmentStartMonth\n",
       "1      PT20     2016-01-02  Cisplatin     140          2016-01-01\n",
       "2       PT2     2016-01-10  Cisplatin     180          2016-01-01\n",
       "6       PT5     2016-02-06  Cisplatin     190          2016-02-01\n",
       "5      PT19     2016-02-10  Cisplatin     180          2016-02-01\n",
       "7       PT6     2016-03-01  Cisplatin     180          2016-03-01"
      ]
     },
     "execution_count": 50,
     "metadata": {},
     "output_type": "execute_result"
    }
   ],
   "source": [
    "df[\"TreatmentStartMonth\"] = df[\"TreatmentStart\"].apply(lambda x:x.replace(day = 1))\n",
    "df.head()"
   ]
  },
  {
   "cell_type": "code",
   "execution_count": 51,
   "metadata": {},
   "outputs": [
    {
     "data": {
      "text/html": [
       "<div>\n",
       "<style scoped>\n",
       "    .dataframe tbody tr th:only-of-type {\n",
       "        vertical-align: middle;\n",
       "    }\n",
       "\n",
       "    .dataframe tbody tr th {\n",
       "        vertical-align: top;\n",
       "    }\n",
       "\n",
       "    .dataframe thead th {\n",
       "        text-align: right;\n",
       "    }\n",
       "</style>\n",
       "<table border=\"1\" class=\"dataframe\">\n",
       "  <thead>\n",
       "    <tr style=\"text-align: right;\">\n",
       "      <th></th>\n",
       "      <th></th>\n",
       "      <th>PatientID</th>\n",
       "    </tr>\n",
       "    <tr>\n",
       "      <th>TreatmentStartMonth</th>\n",
       "      <th>Drug</th>\n",
       "      <th></th>\n",
       "    </tr>\n",
       "  </thead>\n",
       "  <tbody>\n",
       "    <tr>\n",
       "      <th>2016-01-01</th>\n",
       "      <th>Cisplatin</th>\n",
       "      <td>4</td>\n",
       "    </tr>\n",
       "    <tr>\n",
       "      <th>2016-02-01</th>\n",
       "      <th>Cisplatin</th>\n",
       "      <td>3</td>\n",
       "    </tr>\n",
       "    <tr>\n",
       "      <th rowspan=\"2\" valign=\"top\">2016-03-01</th>\n",
       "      <th>Cisplatin</th>\n",
       "      <td>3</td>\n",
       "    </tr>\n",
       "    <tr>\n",
       "      <th>Nivolumab</th>\n",
       "      <td>1</td>\n",
       "    </tr>\n",
       "    <tr>\n",
       "      <th rowspan=\"2\" valign=\"top\">2016-04-01</th>\n",
       "      <th>Cisplatin</th>\n",
       "      <td>3</td>\n",
       "    </tr>\n",
       "    <tr>\n",
       "      <th>Nivolumab</th>\n",
       "      <td>1</td>\n",
       "    </tr>\n",
       "    <tr>\n",
       "      <th rowspan=\"2\" valign=\"top\">2016-05-01</th>\n",
       "      <th>Cisplatin</th>\n",
       "      <td>2</td>\n",
       "    </tr>\n",
       "    <tr>\n",
       "      <th>Nivolumab</th>\n",
       "      <td>2</td>\n",
       "    </tr>\n",
       "    <tr>\n",
       "      <th rowspan=\"2\" valign=\"top\">2016-06-01</th>\n",
       "      <th>Cisplatin</th>\n",
       "      <td>1</td>\n",
       "    </tr>\n",
       "    <tr>\n",
       "      <th>Nivolumab</th>\n",
       "      <td>4</td>\n",
       "    </tr>\n",
       "  </tbody>\n",
       "</table>\n",
       "</div>"
      ],
      "text/plain": [
       "                               PatientID\n",
       "TreatmentStartMonth Drug                \n",
       "2016-01-01          Cisplatin          4\n",
       "2016-02-01          Cisplatin          3\n",
       "2016-03-01          Cisplatin          3\n",
       "                    Nivolumab          1\n",
       "2016-04-01          Cisplatin          3\n",
       "                    Nivolumab          1\n",
       "2016-05-01          Cisplatin          2\n",
       "                    Nivolumab          2\n",
       "2016-06-01          Cisplatin          1\n",
       "                    Nivolumab          4"
      ]
     },
     "execution_count": 51,
     "metadata": {},
     "output_type": "execute_result"
    }
   ],
   "source": [
    "drugs_by_month = df.groupby([\"TreatmentStartMonth\", \"Drug\"]).count()[[\"PatientID\"]]\n",
    "drugs_by_month"
   ]
  },
  {
   "cell_type": "code",
   "execution_count": 53,
   "metadata": {},
   "outputs": [
    {
     "data": {
      "image/png": "[encoded data removed]",
      "text/plain": [
       "<Figure size 432x288 with 1 Axes>"
      ]
     },
     "metadata": {
      "needs_background": "light"
     },
     "output_type": "display_data"
    }
   ],
   "source": [
    "from pandas.plotting import register_matplotlib_converters\n",
    "register_matplotlib_converters()\n",
    "\n",
    "fig = sns.lineplot(data = drugs_by_month.reset_index(), x = \"TreatmentStartMonth\", y = \"PatientID\", hue = \"Drug\")\n",
    "plt.title(\"Number of patients by drug and by month\")\n",
    "plt.ylabel(\"Number of patient starts\")\n",
    "plt.xlabel(\"Drug\")\n",
    "plt.show(fig)"
   ]
  },
  {
   "cell_type": "markdown",
   "metadata": {},
   "source": [
    "Question 4: Dosage and Outliers\n",
    "    \n",
    "What is the average dosage of each drug? Are there any outliers?"
   ]
  },
  {
   "cell_type": "code",
   "execution_count": 54,
   "metadata": {},
   "outputs": [
    {
     "data": {
      "text/html": [
       "<div>\n",
       "<style scoped>\n",
       "    .dataframe tbody tr th:only-of-type {\n",
       "        vertical-align: middle;\n",
       "    }\n",
       "\n",
       "    .dataframe tbody tr th {\n",
       "        vertical-align: top;\n",
       "    }\n",
       "\n",
       "    .dataframe thead tr th {\n",
       "        text-align: left;\n",
       "    }\n",
       "\n",
       "    .dataframe thead tr:last-of-type th {\n",
       "        text-align: right;\n",
       "    }\n",
       "</style>\n",
       "<table border=\"1\" class=\"dataframe\">\n",
       "  <thead>\n",
       "    <tr>\n",
       "      <th></th>\n",
       "      <th colspan=\"8\" halign=\"left\">Dosage</th>\n",
       "    </tr>\n",
       "    <tr>\n",
       "      <th></th>\n",
       "      <th>count</th>\n",
       "      <th>mean</th>\n",
       "      <th>std</th>\n",
       "      <th>min</th>\n",
       "      <th>25%</th>\n",
       "      <th>50%</th>\n",
       "      <th>75%</th>\n",
       "      <th>max</th>\n",
       "    </tr>\n",
       "    <tr>\n",
       "      <th>Drug</th>\n",
       "      <th></th>\n",
       "      <th></th>\n",
       "      <th></th>\n",
       "      <th></th>\n",
       "      <th></th>\n",
       "      <th></th>\n",
       "      <th></th>\n",
       "      <th></th>\n",
       "    </tr>\n",
       "  </thead>\n",
       "  <tbody>\n",
       "    <tr>\n",
       "      <th>Cisplatin</th>\n",
       "      <td>16.0</td>\n",
       "      <td>276.875</td>\n",
       "      <td>406.754943</td>\n",
       "      <td>140.0</td>\n",
       "      <td>160.0</td>\n",
       "      <td>180.0</td>\n",
       "      <td>192.5</td>\n",
       "      <td>1800.0</td>\n",
       "    </tr>\n",
       "    <tr>\n",
       "      <th>Nivolumab</th>\n",
       "      <td>8.0</td>\n",
       "      <td>240.000</td>\n",
       "      <td>0.000000</td>\n",
       "      <td>240.0</td>\n",
       "      <td>240.0</td>\n",
       "      <td>240.0</td>\n",
       "      <td>240.0</td>\n",
       "      <td>240.0</td>\n",
       "    </tr>\n",
       "  </tbody>\n",
       "</table>\n",
       "</div>"
      ],
      "text/plain": [
       "          Dosage                                                         \n",
       "           count     mean         std    min    25%    50%    75%     max\n",
       "Drug                                                                     \n",
       "Cisplatin   16.0  276.875  406.754943  140.0  160.0  180.0  192.5  1800.0\n",
       "Nivolumab    8.0  240.000    0.000000  240.0  240.0  240.0  240.0   240.0"
      ]
     },
     "execution_count": 54,
     "metadata": {},
     "output_type": "execute_result"
    }
   ],
   "source": [
    "df.groupby([\"Drug\"]).describe()"
   ]
  },
  {
   "cell_type": "code",
   "execution_count": 55,
   "metadata": {},
   "outputs": [
    {
     "data": {
      "text/html": [
       "<div>\n",
       "<style scoped>\n",
       "    .dataframe tbody tr th:only-of-type {\n",
       "        vertical-align: middle;\n",
       "    }\n",
       "\n",
       "    .dataframe tbody tr th {\n",
       "        vertical-align: top;\n",
       "    }\n",
       "\n",
       "    .dataframe thead th {\n",
       "        text-align: right;\n",
       "    }\n",
       "</style>\n",
       "<table border=\"1\" class=\"dataframe\">\n",
       "  <thead>\n",
       "    <tr style=\"text-align: right;\">\n",
       "      <th></th>\n",
       "      <th>Dosage</th>\n",
       "    </tr>\n",
       "    <tr>\n",
       "      <th>Drug</th>\n",
       "      <th></th>\n",
       "    </tr>\n",
       "  </thead>\n",
       "  <tbody>\n",
       "    <tr>\n",
       "      <th>Cisplatin</th>\n",
       "      <td>276.875</td>\n",
       "    </tr>\n",
       "    <tr>\n",
       "      <th>Nivolumab</th>\n",
       "      <td>240.000</td>\n",
       "    </tr>\n",
       "  </tbody>\n",
       "</table>\n",
       "</div>"
      ],
      "text/plain": [
       "            Dosage\n",
       "Drug              \n",
       "Cisplatin  276.875\n",
       "Nivolumab  240.000"
      ]
     },
     "execution_count": 55,
     "metadata": {},
     "output_type": "execute_result"
    }
   ],
   "source": [
    "df.groupby([\"Drug\"]).agg({\"Dosage\":\"mean\"})"
   ]
  },
  {
   "cell_type": "code",
   "execution_count": 56,
   "metadata": {},
   "outputs": [
    {
     "data": {
      "text/html": [
       "<div>\n",
       "<style scoped>\n",
       "    .dataframe tbody tr th:only-of-type {\n",
       "        vertical-align: middle;\n",
       "    }\n",
       "\n",
       "    .dataframe tbody tr th {\n",
       "        vertical-align: top;\n",
       "    }\n",
       "\n",
       "    .dataframe thead tr th {\n",
       "        text-align: left;\n",
       "    }\n",
       "\n",
       "    .dataframe thead tr:last-of-type th {\n",
       "        text-align: right;\n",
       "    }\n",
       "</style>\n",
       "<table border=\"1\" class=\"dataframe\">\n",
       "  <thead>\n",
       "    <tr>\n",
       "      <th></th>\n",
       "      <th colspan=\"5\" halign=\"left\">Dosage</th>\n",
       "    </tr>\n",
       "    <tr>\n",
       "      <th></th>\n",
       "      <th>count</th>\n",
       "      <th>mean</th>\n",
       "      <th>std</th>\n",
       "      <th>min</th>\n",
       "      <th>max</th>\n",
       "    </tr>\n",
       "    <tr>\n",
       "      <th>Drug</th>\n",
       "      <th></th>\n",
       "      <th></th>\n",
       "      <th></th>\n",
       "      <th></th>\n",
       "      <th></th>\n",
       "    </tr>\n",
       "  </thead>\n",
       "  <tbody>\n",
       "    <tr>\n",
       "      <th>Cisplatin</th>\n",
       "      <td>16</td>\n",
       "      <td>276.875</td>\n",
       "      <td>406.754943</td>\n",
       "      <td>140</td>\n",
       "      <td>1800</td>\n",
       "    </tr>\n",
       "    <tr>\n",
       "      <th>Nivolumab</th>\n",
       "      <td>8</td>\n",
       "      <td>240.000</td>\n",
       "      <td>0.000000</td>\n",
       "      <td>240</td>\n",
       "      <td>240</td>\n",
       "    </tr>\n",
       "  </tbody>\n",
       "</table>\n",
       "</div>"
      ],
      "text/plain": [
       "          Dosage                                \n",
       "           count     mean         std  min   max\n",
       "Drug                                            \n",
       "Cisplatin     16  276.875  406.754943  140  1800\n",
       "Nivolumab      8  240.000    0.000000  240   240"
      ]
     },
     "execution_count": 56,
     "metadata": {},
     "output_type": "execute_result"
    }
   ],
   "source": [
    "df.groupby([\"Drug\"]).agg({\"Dosage\":[\"count\",\"mean\",\"std\",\"min\",\"max\"]})"
   ]
  },
  {
   "cell_type": "code",
   "execution_count": 57,
   "metadata": {},
   "outputs": [
    {
     "data": {
      "image/png": "[encoded data removed]",
      "text/plain": [
       "<Figure size 432x288 with 1 Axes>"
      ]
     },
     "metadata": {
      "needs_background": "light"
     },
     "output_type": "display_data"
    }
   ],
   "source": [
    "fig = sns.boxplot(data = df, x = \"Drug\", y = \"Dosage\")\n",
    "plt.show(fig)"
   ]
  },
  {
   "cell_type": "code",
   "execution_count": 58,
   "metadata": {},
   "outputs": [
    {
     "data": {
      "image/png": "[encoded data removed]",
      "text/plain": [
       "<Figure size 432x288 with 1 Axes>"
      ]
     },
     "metadata": {
      "needs_background": "light"
     },
     "output_type": "display_data"
    }
   ],
   "source": [
    "fig = sns.boxplot(data = df, x = \"Drug\", y = \"Dosage\", showfliers = False)\n",
    "plt.show(fig)"
   ]
  },
  {
   "cell_type": "markdown",
   "metadata": {},
   "source": [
    "-----------------------------------------------------------------------------------------------------------------------"
   ]
  }
 ],
 "metadata": {
  "kernelspec": {
   "display_name": "Python 3",
   "language": "python",
   "name": "python3"
  },
  "language_info": {
   "codemirror_mode": {
    "name": "ipython",
    "version": 3
   },
   "file_extension": ".py",
   "mimetype": "text/x-python",
   "name": "python",
   "nbconvert_exporter": "python",
   "pygments_lexer": "ipython3",
   "version": "3.7.6"
  }
 },
 "nbformat": 4,
 "nbformat_minor": 2
}
